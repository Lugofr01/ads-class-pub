{
 "cells": [
  {
   "cell_type": "markdown",
   "metadata": {
    "slideshow": {
     "slide_type": "slide"
    }
   },
   "source": [
    "# Algorithms and Data Structures\n",
    "\n",
    "## CS160"
   ]
  },
  {
   "cell_type": "markdown",
   "metadata": {
    "slideshow": {
     "slide_type": "slide"
    }
   },
   "source": [
    "# General Information: Instructor\n",
    "\n",
    "Instructor\n",
    "- Roman Yasinovskyy\n",
    "\n",
    "Contact\n",
    "- Email: **yasiro01@luther.edu**\n",
    "\n",
    "Office Hours\n",
    "- 2:30-3:30 Olin 322\n",
    "- Other times by appointment. Walk-ins welcome!"
   ]
  },
  {
   "cell_type": "markdown",
   "metadata": {
    "slideshow": {
     "slide_type": "subslide"
    }
   },
   "source": [
    "# General Information: Instructor\n",
    "\n",
    "Born in Ukraine\n",
    "\n",
    "Received Bachelor’s and Master’s degrees in Computer Science from Kyiv Mohyla Academy\n",
    "\n",
    "Received Doctorate in Applied Information Technology from Towson University in Maryland\n",
    "\n",
    "Moved to Iowa in 2011 to teach Information Technology at Upper Iowa University\n",
    "\n",
    "Joined Luther College as a Visiting Assistant Professor of Computer Science in 2016\n"
   ]
  },
  {
   "cell_type": "markdown",
   "metadata": {
    "slideshow": {
     "slide_type": "slide"
    }
   },
   "source": [
    "# Student Introduction\n",
    "\n",
    "Please introduce yourself to the class\n",
    "- What is your name?\n",
    "- What is your major?\n",
    "- How would you describe your mastery of Python?\n",
    "- What topic was the most challenging in the previous class (CS 150)?\n",
    "- What topic was the most interesting in the previous class (CS 150)?\n",
    "- What other programming languages, if any, have you ever used?\n",
    "- What are your expectations of this class?"
   ]
  },
  {
   "cell_type": "markdown",
   "metadata": {
    "slideshow": {
     "slide_type": "slide"
    }
   },
   "source": [
    "# General Information: Course\n",
    "\n",
    "Prerequisites\n",
    "- Introduction to Computer Science (CS 150)\n",
    "\n",
    "Meeting time\n",
    "- MWF 1:30-2:30 Olin 112\n",
    "\n",
    "Course Description\n",
    "- A continuation of the ideas presented in CS 150 with particular emphasis on data structures, algorithms, and analysis. Implementation of abstract data types such as stacks, queues, trees, and graphs as well as important recursive and non-recursive algorithms. Analysis of sorting and searching algorithms.\n",
    "\n"
   ]
  },
  {
   "cell_type": "markdown",
   "metadata": {
    "slideshow": {
     "slide_type": "subslide"
    }
   },
   "source": [
    "# General Information: Course\n",
    "\n",
    "Course Goals\n",
    "- Improve your problem solving skills\n",
    "- Improve your (Python) programming skills\n",
    "- Understand Python implementations of common data structures and their tradeoffs\n",
    "- Learn to recognize common patterns in problem solving\n",
    "- Learn to critically evaluate algorithms\n",
    "\n",
    "Textbook\n",
    "- Miller, B., & Ranum, D. (2011). Problem Solving with Algorithms and Data Structures Using Python. Sherwood, OR: Franklin, Beedle & Associates Inc."
   ]
  },
  {
   "cell_type": "markdown",
   "metadata": {
    "slideshow": {
     "slide_type": "slide"
    }
   },
   "source": [
    "# General Information: Textbook\n",
    "![Must-have programming books](http://blog.lunarlogic.io/images/shady_tricks.png)"
   ]
  },
  {
   "attachments": {},
   "cell_type": "markdown",
   "metadata": {
    "slideshow": {
     "slide_type": "subslide"
    }
   },
   "source": [
    "# General Information: Textbook\n",
    "\n",
    "![Problem Solving with Algorithms and Data Structures Using Python](https://fbeedle.com/3-large_default/problem-solving-with-algorithms-and-data-structures-using-python-2nd-ed.jpg)\n",
    "Freely available at [Runestone Academy](https://runestone.academy/)"
   ]
  },
  {
   "cell_type": "markdown",
   "metadata": {
    "slideshow": {
     "slide_type": "slide"
    }
   },
   "source": [
    "# Course Outline: Basics\n",
    "\n",
    "Introduction\n",
    "- Python Basics\n",
    "- Object-oriented programming\n",
    "\n",
    "Algorithm Analysis\n",
    "- Big O notation\n",
    "- Python Data Structures Analysis\n",
    "\n",
    "Basic Data Structures\n",
    "- Stack\n",
    "- Queue\n",
    "- Deque\n",
    "- Linked List"
   ]
  },
  {
   "cell_type": "markdown",
   "metadata": {
    "slideshow": {
     "slide_type": "subslide"
    }
   },
   "source": [
    "# Course Outline: Algorithms\n",
    "\n",
    "Recursion\n",
    "- Laws of Recursion\n",
    "- Dynamic Programming\n",
    "\n",
    "Searching and Sorting\n",
    "- Linear Search\n",
    "- Binary Search\n",
    "- Hashing\n",
    "- Simple Sorting Algorithms\n",
    "- Efficient Sorting Algorithms"
   ]
  },
  {
   "cell_type": "markdown",
   "metadata": {
    "slideshow": {
     "slide_type": "subslide"
    }
   },
   "source": [
    "# Course Outline: Advanced Topics\n",
    "\n",
    "Trees\n",
    "- Binary Trees\n",
    "- Heaps\n",
    "- Binary Search Trees\n",
    "- Balanced Search Trees\n",
    "\n",
    "Graphs\n",
    "- Breadth First Search\n",
    "- Depth First Search\n",
    "- Shortest Path Problems"
   ]
  },
  {
   "cell_type": "markdown",
   "metadata": {
    "slideshow": {
     "slide_type": "slide"
    }
   },
   "source": [
    "# Tentative Schedule\n",
    "\n",
    "Week |Topic\n",
    ":---:|:---\n",
    "1    | Basic Python\n",
    "2    | Object-Oriented Programming\n",
    "3    | Object-Oriented Programming\n",
    "4    | Basic Data Structures\n",
    "5    | Basic Data Structures\n",
    "6    | Course Review + Exam\n",
    "7    | Recursion\n",
    "8    | Searching\n",
    "9    | Sorting\n",
    "10   | Binary trees\n",
    "11   | Binary Trees\n",
    "12   | Course Review + Exam\n",
    "13   | Graphs\n",
    "14   | Graphs\n",
    "15   | Final Exam"
   ]
  },
  {
   "cell_type": "markdown",
   "metadata": {
    "slideshow": {
     "slide_type": "slide"
    }
   },
   "source": [
    "# Weekly Activities\n",
    "\n",
    "- Reading\n",
    "- In-class practice\n",
    "- Exercise\n",
    "- Project\n",
    "- Participation / Reflection"
   ]
  },
  {
   "cell_type": "markdown",
   "metadata": {
    "slideshow": {
     "slide_type": "slide"
    }
   },
   "source": [
    "# Grading\n",
    "\n",
    "Activity/Assignment |Percentage\n",
    "--------------------|:--------:\n",
    "Participation       |5\n",
    "Exercises           |15\n",
    "Projects            |40\n",
    "Midterm Exams       |20\n",
    "Final Exam          |20\n",
    "**Total**           |**100**"
   ]
  },
  {
   "cell_type": "markdown",
   "metadata": {
    "slideshow": {
     "slide_type": "subslide"
    }
   },
   "source": [
    "# Grading: Scale\n",
    "\n",
    "Grade |Required Minimum\n",
    ":-----|:--------------:\n",
    "A     |92\n",
    "A-    |90\n",
    "B+    |88\n",
    "B     |82\n",
    "B-    |80\n",
    "C+    |78\n",
    "C     |72\n",
    "C-    |70\n",
    "D+    |68\n",
    "D     |62\n",
    "D-    |60"
   ]
  },
  {
   "cell_type": "markdown",
   "metadata": {
    "slideshow": {
     "slide_type": "slide"
    }
   },
   "source": [
    "# Class Requirements\n",
    "\n",
    "Participation\n",
    "- Class period will be split between lecturing and hands-on activities. Please read the assigned materials and come to class with questions. It is fine to be confused as long as you demonstrate positive attitude and progress.\n",
    "\n",
    "Resources\n",
    "- You should bring your laptop to every class and be prepared to use IDE of your choice to complete assignments.\n",
    "\n",
    "Homework\n",
    "- Select activities and reading will be assigned to reinforce course material.\n",
    "- In-class participation and weekly reflections will be included in the final grade.\n",
    "- Select programming exercises will be assigned. Top 10 exercise scores will be included in the final grade.\n",
    "- Select programming projects will be assigned. Top 10 project scores will be included in the final grade.\n",
    "- Unless specified otherwise, all assignments are individual and you must submit your original work to fulfill the requirements.\n",
    "\n",
    "Accommodations\n",
    "- Please let me know if you need any additional accommodations."
   ]
  },
  {
   "cell_type": "markdown",
   "metadata": {
    "slideshow": {
     "slide_type": "slide"
    }
   },
   "source": [
    "# Thank You!"
   ]
  }
 ],
 "metadata": {
  "celltoolbar": "Slideshow",
  "kernelspec": {
   "display_name": "Python 3",
   "language": "python",
   "name": "python3"
  },
  "language_info": {
   "codemirror_mode": {
    "name": "ipython",
    "version": 3
   },
   "file_extension": ".py",
   "mimetype": "text/x-python",
   "name": "python",
   "nbconvert_exporter": "python",
   "pygments_lexer": "ipython3",
   "version": "3.5.1"
  }
 },
 "nbformat": 4,
 "nbformat_minor": 2
}
