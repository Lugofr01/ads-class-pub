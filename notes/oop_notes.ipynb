{
 "cells": [
  {
   "cell_type": "markdown",
   "metadata": {},
   "source": [
    "# Object-oriented programming #\n",
    "*In-class code examples*"
   ]
  },
  {
   "cell_type": "markdown",
   "metadata": {},
   "source": [
    "## Simple Classes ##\n",
    "Use constructor method __init__ to create a new instance of a class and initialize its data members.\n",
    "\n",
    "Use \"magic\" functions __str__, __eq__, etc to specify common behavior.\n",
    "\n",
    "Use self to access the object itself.\n",
    "\n",
    "Start a name with a single underscore _ to signify a \"private\" (not really) member.\n",
    "\n",
    "If necessary, end method parameters with a single underscore to avoid confusion."
   ]
  },
  {
   "cell_type": "code",
   "execution_count": 3,
   "metadata": {
    "collapsed": false
   },
   "outputs": [],
   "source": [
    "#!/usr/bin/env python3\n",
    "#encoding: UTF-8\n",
    "\n",
    "class Student:\n",
    "    def __init__(self, initial_name):\n",
    "        self._name = initial_name\n",
    "        \n",
    "    def get_name(self):\n",
    "        return self._name\n",
    "    \n",
    "    def set_name(self, new_name):\n",
    "        self._name = new_name\n",
    "    \n",
    "    def __str__(self):\n",
    "        return 'Hi, I\\'m ' + self._name + '!'\n",
    "    \n",
    "    def __eq__(self, other):\n",
    "        return self._name == other.get_name()\n",
    "        \n",
    "    def __add__(self, other):\n",
    "        if isinstance(other, Student):\n",
    "            return Student(self._name + ' ' + other.get_name())\n",
    "        else:\n",
    "            print('hey! don\\'t do this!')\n"
   ]
  },
  {
   "cell_type": "markdown",
   "metadata": {},
   "source": [
    "### Using objects ###\n",
    "Use getters and setters to access object data members."
   ]
  },
  {
   "cell_type": "code",
   "execution_count": 4,
   "metadata": {
    "collapsed": false
   },
   "outputs": [
    {
     "name": "stdout",
     "output_type": "stream",
     "text": [
      "Alice\n",
      "Charles\n",
      "Hi, I'm Alice! 140033085709280\n",
      "Hi, I'm Charles! 140033085709448\n",
      "something else\n",
      "Hi, I'm Alice Charles!\n",
      "Hi, I'm Alice Charles Doug!\n"
     ]
    }
   ],
   "source": [
    "s1 = Student('Alice')\n",
    "print(s1.get_name())\n",
    "s2 = Student('Charles')\n",
    "print(s2.get_name())\n",
    "print(s1, id(s1))\n",
    "print(s2, id(s2))\n",
    "if s1 == s2:\n",
    "    print('they are equal')\n",
    "else:\n",
    "    print('something else')\n",
    "    \n",
    "print(s1 + s2)\n",
    "s3 = Student('Doug')\n",
    "print(s1 + s2 + s3)"
   ]
  },
  {
   "cell_type": "markdown",
   "metadata": {},
   "source": [
    "### Very simple class ###\n",
    "Very simple constructor demo."
   ]
  },
  {
   "cell_type": "code",
   "execution_count": 5,
   "metadata": {
    "collapsed": false
   },
   "outputs": [],
   "source": [
    "class Wall:\n",
    "    def __init__(self):\n",
    "        self.color = 'white'\n"
   ]
  },
  {
   "cell_type": "code",
   "execution_count": 6,
   "metadata": {
    "collapsed": false
   },
   "outputs": [
    {
     "name": "stdout",
     "output_type": "stream",
     "text": [
      "white\n"
     ]
    }
   ],
   "source": [
    "my_front_wall = Wall()\n",
    "print(my_front_wall.color)"
   ]
  },
  {
   "cell_type": "markdown",
   "metadata": {},
   "source": [
    "## Class with properties ##\n",
    "Use @property decorator or property function to provide an interface to class members."
   ]
  },
  {
   "cell_type": "code",
   "execution_count": 7,
   "metadata": {
    "collapsed": false
   },
   "outputs": [],
   "source": [
    "class Course:\n",
    "    def __init__(self, id_, dept_, number_, semester_, year_, section_, title_):\n",
    "        self._id = id_\n",
    "        self._dept = dept_\n",
    "        self._number = number_\n",
    "        self._semester = semester_\n",
    "        self._year = year_\n",
    "        self._section = section_\n",
    "        self._title = title_\n",
    "    \n",
    "    @property\n",
    "    def semester(self):\n",
    "        return self._semester\n",
    "    \n",
    "    @semester.setter\n",
    "    def semester(self, new_value):\n",
    "        if new_value in ['FA', 'JT', 'SP', 'SU']:\n",
    "            self._semester = new_value\n",
    "        else:\n",
    "            raise ValueError('bad value of the semester. Use a valid value')\n",
    "    \n",
    "    #semester = property(get_semester, set_semester)\n",
    "   \n",
    "    def __str__(self):\n",
    "        return self._dept + '-' + str(self._number)"
   ]
  },
  {
   "cell_type": "code",
   "execution_count": 8,
   "metadata": {
    "collapsed": false
   },
   "outputs": [
    {
     "name": "stdout",
     "output_type": "stream",
     "text": [
      "CS-160\n"
     ]
    }
   ],
   "source": [
    "my_course = Course(123, 'CS', 160, 'SP', 2017, 'A', 'ADS')\n",
    "print(my_course)\n"
   ]
  },
  {
   "cell_type": "markdown",
   "metadata": {},
   "source": [
    "## Using exceptions ##\n",
    "try..except..finally"
   ]
  },
  {
   "cell_type": "code",
   "execution_count": 9,
   "metadata": {
    "collapsed": false
   },
   "outputs": [
    {
     "name": "stdout",
     "output_type": "stream",
     "text": [
      "'Course' object has no attribute 'get_semester'\n"
     ]
    }
   ],
   "source": [
    "try:\n",
    "    print(my_course.get_semester())\n",
    "except AttributeError as attribute_err:\n",
    "    print(attribute_err)"
   ]
  },
  {
   "cell_type": "code",
   "execution_count": 10,
   "metadata": {
    "collapsed": false
   },
   "outputs": [
    {
     "name": "stdout",
     "output_type": "stream",
     "text": [
      "'Course' object has no attribute 'set_semester'\n"
     ]
    }
   ],
   "source": [
    "try:\n",
    "    my_course.set_semester('SU')\n",
    "except AttributeError as attribute_err:\n",
    "    print(attribute_err)"
   ]
  },
  {
   "cell_type": "code",
   "execution_count": 11,
   "metadata": {
    "collapsed": false
   },
   "outputs": [
    {
     "name": "stdout",
     "output_type": "stream",
     "text": [
      "SP\n"
     ]
    }
   ],
   "source": [
    "print(my_course.semester)"
   ]
  },
  {
   "cell_type": "code",
   "execution_count": 12,
   "metadata": {
    "collapsed": false
   },
   "outputs": [
    {
     "name": "stdout",
     "output_type": "stream",
     "text": [
      "SP\n",
      "there was a problem\n",
      "bad value of the semester. Use a valid value\n",
      "SP\n"
     ]
    }
   ],
   "source": [
    "print(my_course.semester)\n",
    "try:\n",
    "    my_course.semester = 'Hello'\n",
    "except ValueError as value_err:\n",
    "    print('there was a problem')\n",
    "    print(value_err)\n",
    "finally:\n",
    "    print(my_course.semester)"
   ]
  },
  {
   "cell_type": "code",
   "execution_count": 13,
   "metadata": {
    "collapsed": false
   },
   "outputs": [
    {
     "name": "stdout",
     "output_type": "stream",
     "text": [
      "division by zero\n",
      "1/1 = 1.0\n",
      "1/1 = 1.0\n",
      "1/1 = 1.0\n",
      "division by zero\n",
      "The program didn't crash!\n"
     ]
    }
   ],
   "source": [
    "import random\n",
    "for _ in range(5):\n",
    "    x = random.randint(0, 1)\n",
    "    try:\n",
    "        print(\"1/{} = {}\".format(x, 1/int(x)))\n",
    "    except ZeroDivisionError as zerodiv_err:\n",
    "        print(zerodiv_err)\n",
    "print(\"The program didn't crash!\")"
   ]
  },
  {
   "cell_type": "markdown",
   "metadata": {
    "collapsed": true
   },
   "source": [
    "## Inheritance ##\n",
    "Classes can inherit members from other class(es)"
   ]
  },
  {
   "cell_type": "code",
   "execution_count": 14,
   "metadata": {
    "collapsed": true
   },
   "outputs": [],
   "source": [
    "import random\n",
    "\n",
    "class Fruit:\n",
    "    def __init__(self, color_, price_=0.99):\n",
    "        self._color = color_\n",
    "        self._price = price_\n",
    "    \n",
    "    def __str__(self):\n",
    "        return 'costs ' + str(self._price)\n",
    "\n",
    "class Apple(Fruit):\n",
    "    def __init__(self, color_, price_, variety_):\n",
    "        super().__init__(color_, price_)\n",
    "        self._variety = variety_\n",
    "    \n",
    "    def make_a_pie(self):\n",
    "        return \"Tasty pie\"\n",
    "    \n",
    "    def __str__(self):\n",
    "        return 'this ' + self._color + ' ' + self._variety + ' apple ' + super().__str__()\n",
    "\n",
    "class Orange(Fruit):\n",
    "    def __init__(self, color_, price_, origin_):\n",
    "        super().__init__(color_, price_)\n",
    "        self._origin = origin_\n",
    "        \n",
    "    def make_juice(self):\n",
    "        return \"Tasty juice\"\n",
    "    \n",
    "    def __str__(self):\n",
    "        return 'this ' + self._color + ' ' + self._origin + ' orange ' + super().__str__()"
   ]
  },
  {
   "cell_type": "markdown",
   "metadata": {},
   "source": [
    "### Working with a hierarchy of classes ###"
   ]
  },
  {
   "cell_type": "code",
   "execution_count": 15,
   "metadata": {
    "collapsed": false
   },
   "outputs": [
    {
     "name": "stdout",
     "output_type": "stream",
     "text": [
      "this red Honey Crisp apple costs 0.5\n",
      "Tasty pie\n",
      "this orange Iowa orange costs 1.0\n",
      "Tasty juice\n"
     ]
    }
   ],
   "source": [
    "a = Apple('red', .50, 'Honey Crisp')\n",
    "print(a)\n",
    "print(a.make_a_pie())\n",
    "o = Orange('orange', 1.00, 'Iowa')\n",
    "print(o)\n",
    "print(o.make_juice())"
   ]
  },
  {
   "cell_type": "markdown",
   "metadata": {},
   "source": [
    "### Using isinstance() and issubclass() ###"
   ]
  },
  {
   "cell_type": "code",
   "execution_count": 34,
   "metadata": {
    "collapsed": false
   },
   "outputs": [
    {
     "name": "stdout",
     "output_type": "stream",
     "text": [
      "<class '__main__.Apple'>\n",
      "True\n",
      "True\n"
     ]
    }
   ],
   "source": [
    "print(type(a))\n",
    "print(isinstance(a, Apple))\n",
    "print(issubclass(type(a), Fruit))"
   ]
  }
 ],
 "metadata": {
  "kernelspec": {
   "display_name": "Python 3",
   "language": "python",
   "name": "python3"
  },
  "language_info": {
   "codemirror_mode": {
    "name": "ipython",
    "version": 3
   },
   "file_extension": ".py",
   "mimetype": "text/x-python",
   "name": "python",
   "nbconvert_exporter": "python",
   "pygments_lexer": "ipython3",
   "version": "3.5.1"
  }
 },
 "nbformat": 4,
 "nbformat_minor": 0
}
