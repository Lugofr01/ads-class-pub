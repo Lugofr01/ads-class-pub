{
 "cells": [
  {
   "cell_type": "code",
   "execution_count": 1,
   "metadata": {
    "collapsed": true
   },
   "outputs": [],
   "source": [
    "class Cat:\n",
    "    def __init__(self, current_mood=None):\n",
    "        self._mood = current_mood\n",
    "    def __str__(self):\n",
    "        return 'The cat is ' + self._mood"
   ]
  },
  {
   "cell_type": "code",
   "execution_count": 2,
   "metadata": {
    "collapsed": false
   },
   "outputs": [],
   "source": [
    "class Node:\n",
    "    def __init__(self, node_data=None):\n",
    "        self._data = node_data\n",
    "        self._next = None\n",
    "    @property\n",
    "    def data(self):\n",
    "        return self._data\n",
    "    @data.setter\n",
    "    def data(self, node_data):\n",
    "        self._data = node_data\n",
    "    @property\n",
    "    def next(self):\n",
    "        return self._next\n",
    "    @next.setter\n",
    "    def next(self, node_next):\n",
    "        self._next = node_next\n",
    "    def __str__(self):\n",
    "        return str(self._data)"
   ]
  },
  {
   "cell_type": "code",
   "execution_count": 3,
   "metadata": {
    "collapsed": false
   },
   "outputs": [
    {
     "name": "stdout",
     "output_type": "stream",
     "text": [
      "The cat is Grumpy\n",
      "The cat is Confused\n"
     ]
    }
   ],
   "source": [
    "c1 = Cat('Grumpy')\n",
    "c2 = Cat(\"Confused\")\n",
    "cat_node_1 = Node(c1)\n",
    "cat_node_2 = Node(c2)\n",
    "print(cat_node_1)\n",
    "print(cat_node_2)"
   ]
  },
  {
   "cell_type": "code",
   "execution_count": 4,
   "metadata": {
    "collapsed": false
   },
   "outputs": [
    {
     "name": "stdout",
     "output_type": "stream",
     "text": [
      "n1 value is None\n",
      "n1 value is CS\n",
      "n2 value is 160\n",
      "n3 value is 2017-03-01\n",
      "\n",
      "160\n",
      "2017-03-01\n",
      "None\n"
     ]
    }
   ],
   "source": [
    "n1 = Node()\n",
    "print('n1 value is', n1)\n",
    "n1.data = 'CS'\n",
    "print('n1 value is', n1)\n",
    "n2 = Node(160)\n",
    "print('n2 value is', n2)\n",
    "n3 = Node('2017-03-01')\n",
    "print('n3 value is', n3)\n",
    "print()\n",
    "n1.next = n2\n",
    "n2.next = n3\n",
    "print(n1.next)\n",
    "print(n1.next.next)\n",
    "print(n1.next.next.next)\n",
    "#print(n1.next.next.next.next)\n"
   ]
  },
  {
   "cell_type": "code",
   "execution_count": 5,
   "metadata": {
    "collapsed": true
   },
   "outputs": [],
   "source": [
    "from abc import ABC, abstractmethod\n",
    "class LinkedList(ABC):\n",
    "    @abstractmethod\n",
    "    def __init__(self):\n",
    "        self._head = None\n",
    "        self._count = 0\n",
    "    def is_empty(self):\n",
    "        return self._count == 0\n",
    "    def __len__(self):\n",
    "        return self._count\n",
    "    @abstractmethod\n",
    "    def add(self, new_node):\n",
    "        pass\n",
    "    @abstractmethod\n",
    "    def append(self, new_node):\n",
    "        pass\n",
    "    @abstractmethod\n",
    "    def insert(self, new_node):\n",
    "        pass\n",
    "    @abstractmethod\n",
    "    def index(self, value):\n",
    "        pass\n",
    "    @abstractmethod\n",
    "    def remove(self):\n",
    "        pass\n",
    "    def pop(self, position=None):\n",
    "        pass\n",
    "    def __getitem__(self, rng):\n",
    "        if isinstance(rng, int):\n",
    "            #return a single node\n",
    "            pass\n",
    "        elif isinstance(rng, slice):\n",
    "            #return a slice\n",
    "            slice_lst = UnorderedLinkedList()\n",
    "            slice_rng = list(range(rng.start, rng.stop))\n",
    "            slice_count = 0\n",
    "            current = self._head\n",
    "            while current and slice_count < rng.start:\n",
    "                current = current.next\n",
    "                slice_count += 1\n",
    "            while current and slice_count < rng.stop:\n",
    "                slice_lst.append(Node(current.data))\n",
    "                current = current.next\n",
    "                slice_count += 1\n",
    "            return slice_lst\n",
    "\n",
    "    def __str__(self):\n",
    "        all_nodes = []\n",
    "        current = self._head\n",
    "        while current:\n",
    "            all_nodes.append(current.data)\n",
    "            current = current.next\n",
    "        return str(all_nodes)"
   ]
  },
  {
   "cell_type": "code",
   "execution_count": 6,
   "metadata": {
    "collapsed": true
   },
   "outputs": [],
   "source": [
    "class UnorderedLinkedList(LinkedList):\n",
    "    def __init__(self):\n",
    "        #LinkedList.__init__(self)\n",
    "        super().__init__()\n",
    "    def add(self, new_node):\n",
    "        '''Add a new node at the beginning of a list'''\n",
    "        new_node.next = self._head\n",
    "        self._head = new_node\n",
    "        self._count += 1\n",
    "\n",
    "    def append(self, new_node):\n",
    "        '''Add a new node at the end of a list'''\n",
    "        if not self._head:\n",
    "            self._head = new_node\n",
    "            self._count += 1\n",
    "            return\n",
    "        current  = self._head\n",
    "        while current.next:\n",
    "            current = current.next\n",
    "        current.next = new_node\n",
    "        self._count += 1\n",
    "\n",
    "    def insert(self, new_node):\n",
    "        pass\n",
    "\n",
    "    def index(self, value):\n",
    "        pass\n",
    "\n",
    "    def remove(self, value):\n",
    "        '''Remove a node with the specified value from a list'''\n",
    "        prev = None\n",
    "        current = self._head\n",
    "        while current and current.data != value:\n",
    "            prev = current\n",
    "            current = current.next\n",
    "        if current:\n",
    "            if prev:\n",
    "                prev.next = current.next\n",
    "            else:\n",
    "                self._head = current.next\n",
    "            del current\n",
    "            self._count = self._count - 1"
   ]
  },
  {
   "cell_type": "code",
   "execution_count": 7,
   "metadata": {
    "collapsed": false
   },
   "outputs": [
    {
     "name": "stdout",
     "output_type": "stream",
     "text": [
      "1: [3]\n",
      "2: [3, 8]\n",
      "3: [3, 8, 5]\n",
      "4: [3, 8, 5, 10]\n",
      "5: [3, 8, 5, 10, 8]\n",
      "6: [3, 8, 5, 10, 8, 1]\n",
      "7: [3, 8, 5, 10, 8, 1, 7]\n",
      "8: [3, 8, 5, 10, 8, 1, 7, 9]\n",
      "9: [3, 8, 5, 10, 8, 1, 7, 9, 5]\n",
      "10: [3, 8, 5, 10, 8, 1, 7, 9, 5, 7]\n",
      "node removal\n",
      "9: [3, 8, 10, 8, 1, 7, 9, 5, 7]\n",
      "[8, 10]\n"
     ]
    }
   ],
   "source": [
    "import random\n",
    "ull = UnorderedLinkedList()\n",
    "for _ in range(10):\n",
    "    n = Node(random.randint(1, 10))\n",
    "    ull.append(n)\n",
    "    print(\"{}: {}\".format(len(ull), ull))\n",
    "print('node removal')\n",
    "ull.remove(5)\n",
    "print(\"{}: {}\".format(len(ull), ull))\n",
    "print(ull[1:3])\n"
   ]
  }
 ],
 "metadata": {
  "kernelspec": {
   "display_name": "Python 3",
   "language": "python",
   "name": "python3"
  },
  "language_info": {
   "codemirror_mode": {
    "name": "ipython",
    "version": 3
   },
   "file_extension": ".py",
   "mimetype": "text/x-python",
   "name": "python",
   "nbconvert_exporter": "python",
   "pygments_lexer": "ipython3",
   "version": "3.5.1"
  }
 },
 "nbformat": 4,
 "nbformat_minor": 2
}
