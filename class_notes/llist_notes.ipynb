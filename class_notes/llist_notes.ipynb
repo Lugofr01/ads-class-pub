{
 "cells": [
  {
   "cell_type": "code",
   "execution_count": 39,
   "metadata": {
    "collapsed": true
   },
   "outputs": [],
   "source": [
    "class Cat:\n",
    "    def __init__(self, current_mood=None):\n",
    "        self._mood = current_mood\n",
    "    def __str__(self):\n",
    "        return 'The cat is ' + self._mood"
   ]
  },
  {
   "cell_type": "code",
   "execution_count": 29,
   "metadata": {
    "collapsed": false
   },
   "outputs": [],
   "source": [
    "class Node:\n",
    "    def __init__(self, node_data=None):\n",
    "        self._data = node_data\n",
    "        self._next = None\n",
    "    @property\n",
    "    def data(self):\n",
    "        return self._data\n",
    "    @data.setter\n",
    "    def data(self, node_data):\n",
    "        self._data = node_data\n",
    "    @property\n",
    "    def next(self):\n",
    "        return self._next\n",
    "    @next.setter\n",
    "    def next(self, node_next):\n",
    "        self._next = node_next\n",
    "    def __str__(self):\n",
    "        return str(self._data)"
   ]
  },
  {
   "cell_type": "code",
   "execution_count": 42,
   "metadata": {
    "collapsed": false
   },
   "outputs": [
    {
     "name": "stdout",
     "output_type": "stream",
     "text": [
      "The cat is Grumpy\n",
      "The cat is Confused\n"
     ]
    }
   ],
   "source": [
    "c1 = Cat('Grumpy')\n",
    "c2 = Cat(\"Confused\")\n",
    "cat_node_1 = Node(c1)\n",
    "cat_node_2 = Node(c2)\n",
    "print(cat_node_1)\n",
    "print(cat_node_2)"
   ]
  },
  {
   "cell_type": "code",
   "execution_count": 43,
   "metadata": {
    "collapsed": false
   },
   "outputs": [
    {
     "name": "stdout",
     "output_type": "stream",
     "text": [
      "n1 value is None\n",
      "n1 value is CS\n",
      "n2 value is 160\n",
      "n3 value is 2017-03-01\n",
      "\n",
      "160\n",
      "2017-03-01\n",
      "None\n"
     ]
    }
   ],
   "source": [
    "n1 = Node()\n",
    "print('n1 value is', n1)\n",
    "n1.data = 'CS'\n",
    "print('n1 value is', n1)\n",
    "n2 = Node(160)\n",
    "print('n2 value is', n2)\n",
    "n3 = Node('2017-03-01')\n",
    "print('n3 value is', n3)\n",
    "print()\n",
    "n1.next = n2\n",
    "n2.next = n3\n",
    "print(n1.next)\n",
    "print(n1.next.next)\n",
    "print(n1.next.next.next)\n",
    "#print(n1.next.next.next.next)\n"
   ]
  },
  {
   "cell_type": "code",
   "execution_count": 58,
   "metadata": {
    "collapsed": true
   },
   "outputs": [],
   "source": [
    "class LinkedList:\n",
    "    def __init__(self):\n",
    "        self._head = None\n",
    "        self._count = 0\n",
    "    def is_empty(self):\n",
    "        return self._count == 0\n",
    "    def __len__(self):\n",
    "        return self._count\n",
    "    def add(self, new_node):\n",
    "        if self._head == None:\n",
    "            self._head = new_node\n",
    "        else:\n",
    "            new_node.next = self._head\n",
    "            self._head = new_node\n",
    "        self._count += 1\n",
    "    def pop(self, position=None):\n",
    "        pass\n",
    "    def remove(self):\n",
    "        pass\n",
    "    def __str__(self):\n",
    "        all_nodes = []\n",
    "        current = self._head\n",
    "        while current:\n",
    "            all_nodes.append(current.data)\n",
    "            current = current.next\n",
    "        return str(all_nodes)"
   ]
  },
  {
   "cell_type": "code",
   "execution_count": 59,
   "metadata": {
    "collapsed": false
   },
   "outputs": [
    {
     "name": "stdout",
     "output_type": "stream",
     "text": [
      "1: [8]\n",
      "2: [2, 8]\n",
      "3: [8, 2, 8]\n",
      "4: [7, 8, 2, 8]\n",
      "5: [9, 7, 8, 2, 8]\n"
     ]
    }
   ],
   "source": [
    "import random\n",
    "ll = LinkedList()\n",
    "for _ in range(5):\n",
    "    n = Node(random.randint(1, 10))\n",
    "    ll.add(n)\n",
    "    print(\"{}: {}\".format(len(ll), ll))\n"
   ]
  },
  {
   "cell_type": "code",
   "execution_count": null,
   "metadata": {
    "collapsed": true
   },
   "outputs": [],
   "source": []
  }
 ],
 "metadata": {
  "kernelspec": {
   "display_name": "Python 3",
   "language": "python",
   "name": "python3"
  },
  "language_info": {
   "codemirror_mode": {
    "name": "ipython",
    "version": 3
   },
   "file_extension": ".py",
   "mimetype": "text/x-python",
   "name": "python",
   "nbconvert_exporter": "python",
   "pygments_lexer": "ipython3",
   "version": "3.5.1"
  }
 },
 "nbformat": 4,
 "nbformat_minor": 2
}
