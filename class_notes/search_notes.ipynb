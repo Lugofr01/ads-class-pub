{
 "cells": [
  {
   "cell_type": "code",
   "execution_count": 1,
   "metadata": {
    "collapsed": false
   },
   "outputs": [
    {
     "name": "stdout",
     "output_type": "stream",
     "text": [
      "True\n"
     ]
    }
   ],
   "source": [
    "class Student:\n",
    "    def __init__(self, name):\n",
    "        self._name = name\n",
    "    @property\n",
    "    def name(self):\n",
    "        return self._name\n",
    "    def __eq__(self, other):\n",
    "        return self._name == other.name\n",
    "\n",
    "roster = [Student('zack'), Student('bob'), Student('chuck')]\n",
    "name = Student('zack')\n",
    "\n",
    "def search(lst, val):\n",
    "    for n in lst:\n",
    "        if n == val:\n",
    "            return True\n",
    "    return False\n",
    "\n",
    "print(search(roster, name))"
   ]
  },
  {
   "cell_type": "code",
   "execution_count": 34,
   "metadata": {
    "collapsed": false
   },
   "outputs": [],
   "source": [
    "class Map:\n",
    "    '''Map ADT implementation'''\n",
    "    def __init__(self, size=8):\n",
    "        '''Create a Map object'''\n",
    "        self._items = [None] * size\n",
    "        self._size = size\n",
    "        # Hint: use this to keep track of all the keys\n",
    "        self._keys = set()\n",
    "\n",
    "    def rehash(self, key, k=0):\n",
    "        '''Re-hash function'''\n",
    "        return (key % self._size + k * k) % self._size\n",
    "\n",
    "    def get(self, key):\n",
    "        '''Given a key, return the value stored in the map or None otherwise'''\n",
    "        pass\n",
    "\n",
    "    def put(self, key, val):\n",
    "        '''Add a new key-value pair to the map. If the key is already in the map then replace the old value with the new value'''\n",
    "        #Store key:value as a tuple (key, value) in the list of items\n",
    "        pos = self.rehash(key)\n",
    "        #Resolving a collision\n",
    "        for k in range(self._size):\n",
    "            pos = self.rehash(key, k)\n",
    "            #Found an empty spot\n",
    "            if not self._items[pos]:\n",
    "                self._items[pos] = (key, val)\n",
    "                break\n",
    "            #Found an item to update\n",
    "            elif self._items[pos][0] == key:\n",
    "                self._items[pos] = (key, val)\n",
    "                break\n",
    "\n",
    "    def remove(self, key):\n",
    "        '''Remove an item from the map by its key'''\n",
    "        for k in range(self._size):\n",
    "            pos = self.rehash(key, k)\n",
    "            if not self._items[pos]:\n",
    "                raise KeyError(\"Not such item in the map\")\n",
    "            elif self._items[pos][0] == key:\n",
    "                self._items[pos] = None\n",
    "                break\n",
    "\n",
    "    def __contains__(self, key):\n",
    "        '''Return True for a statement of the form key in map, if the given key is in the map, False otherwise'''\n",
    "        return key in self._keys\n",
    "\n",
    "    def __len__(self):\n",
    "        '''Return the number of key-value pairs stored in the map'''\n",
    "        return self._size - self._items.count(None)\n",
    "\n",
    "    def __str__(self):\n",
    "        '''Return the string representation of the map object'''\n",
    "        #return str([i for i in self._items if i])\n",
    "        return str(self._items)\n"
   ]
  },
  {
   "cell_type": "code",
   "execution_count": 35,
   "metadata": {
    "collapsed": false
   },
   "outputs": [
    {
     "name": "stdout",
     "output_type": "stream",
     "text": [
      "[None, (33, 'Alice'), None, None, None, None, None, None]\n",
      "Items in the map: 1\n",
      "[None, (33, 'Alice'), (25, 'Bob'), (35, 'Chuck'), None, None, None, None]\n",
      "Items in the map: 3\n",
      "Key 33 in the map: False\n",
      "Key 34 in the map: False\n",
      "[None, (33, 'Alice'), (25, 'Bob'), (35, 'Dave'), None, None, None, None]\n",
      "Items in the map: 3\n",
      "'Not such item in the map'\n",
      "[None, (33, 'Alice'), (25, 'Bob'), (35, 'Dave'), None, None, None, None]\n",
      "Items in the map: 3\n",
      "[None, (33, 'Alice'), None, (35, 'Dave'), None, None, None, None]\n",
      "Items in the map: 2\n"
     ]
    }
   ],
   "source": [
    "m = Map()\n",
    "m.put(33, \"Alice\")\n",
    "print(m)\n",
    "print(\"Items in the map: {}\".format(len(m)))\n",
    "m.put(25, \"Bob\")\n",
    "m.put(35, \"Chuck\")\n",
    "print(m)\n",
    "print(\"Items in the map: {}\".format(len(m)))\n",
    "print(\"Key 33 in the map: {}\".format(33 in m))\n",
    "print(\"Key 34 in the map: {}\".format(34 in m))\n",
    "m.put(35, \"Dave\")\n",
    "print(m)\n",
    "print(\"Items in the map: {}\".format(len(m)))\n",
    "try:\n",
    "    m.remove(22)\n",
    "except KeyError as ke:\n",
    "    print(ke)\n",
    "print(m)\n",
    "print(\"Items in the map: {}\".format(len(m)))\n",
    "try:\n",
    "    m.remove(25)\n",
    "except KeyError as ke:\n",
    "    print(ke)\n",
    "print(m)\n",
    "print(\"Items in the map: {}\".format(len(m)))"
   ]
  },
  {
   "cell_type": "code",
   "execution_count": null,
   "metadata": {
    "collapsed": true
   },
   "outputs": [],
   "source": []
  }
 ],
 "metadata": {
  "kernelspec": {
   "display_name": "Python 3",
   "language": "python",
   "name": "python3"
  },
  "language_info": {
   "codemirror_mode": {
    "name": "ipython",
    "version": 3
   },
   "file_extension": ".py",
   "mimetype": "text/x-python",
   "name": "python",
   "nbconvert_exporter": "python",
   "pygments_lexer": "ipython3",
   "version": "3.5.1"
  }
 },
 "nbformat": 4,
 "nbformat_minor": 2
}
