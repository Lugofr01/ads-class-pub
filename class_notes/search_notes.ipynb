{
 "cells": [
  {
   "cell_type": "code",
   "execution_count": 1,
   "metadata": {
    "collapsed": false
   },
   "outputs": [
    {
     "name": "stdout",
     "output_type": "stream",
     "text": [
      "True\n"
     ]
    }
   ],
   "source": [
    "class Student:\n",
    "    def __init__(self, name):\n",
    "        self._name = name\n",
    "    @property\n",
    "    def name(self):\n",
    "        return self._name\n",
    "    def __eq__(self, other):\n",
    "        return self._name == other.name\n",
    "\n",
    "roster = [Student('zack'), Student('bob'), Student('chuck')]\n",
    "name = Student('zack')\n",
    "\n",
    "def search(lst, val):\n",
    "    for n in lst:\n",
    "        if n == val:\n",
    "            return True\n",
    "    return False\n",
    "\n",
    "print(search(roster, name))"
   ]
  },
  {
   "cell_type": "code",
   "execution_count": 2,
   "metadata": {
    "collapsed": true
   },
   "outputs": [],
   "source": [
    "class Map:\n",
    "    '''Map ADT implementation'''\n",
    "    def __init__(self, size=8):\n",
    "        '''Create a Map object'''\n",
    "        self._items = [None] * size\n",
    "        self._size = size\n",
    "        # Hint: use this to keep track of all the keys\n",
    "        self._keys = set()\n",
    "\n",
    "    def rehash(self, key, k=0):\n",
    "        '''Re-hash function'''\n",
    "        return (key % self._size + k * k) % self._size\n",
    "\n",
    "    def get(self, key):\n",
    "        '''Given a key, return the value stored in the map or None otherwise'''\n",
    "        pass\n",
    "\n",
    "    def put(self, key, val):\n",
    "        '''Add a new key-value pair to the map. If the key is already in the map then replace the old value with the new value'''\n",
    "        #Store key:value as a tuple (key, value) in the list of items\n",
    "        pos = self.rehash(key)\n",
    "        #Adding a new item\n",
    "        if not self._items[pos]:\n",
    "            self._items[pos] = (key, val)\n",
    "            self._keys.add(key)\n",
    "        else:\n",
    "            #Resolving a collision\n",
    "            for k in range(self._size):\n",
    "                pos = self.rehash(key, k)\n",
    "                #Found an empty spot\n",
    "                if not self._items[pos]:\n",
    "                    self._items[pos] = (key, val)\n",
    "                    break\n",
    "                #Found an item to update\n",
    "                elif self._items[pos][0] == key:\n",
    "                    self._items[pos] = (key, val)\n",
    "                    break\n",
    "\n",
    "    def __contains__(self, key):\n",
    "        '''Return True for a statement of the form key in map, if the given key is in the map, False otherwise'''\n",
    "        return key in self._keys\n",
    "\n",
    "    def __len__(self):\n",
    "        '''Return the number of key-value pairs stored in the map'''\n",
    "        return self._size - self._items.count(None)\n",
    "\n",
    "    def __str__(self):\n",
    "        '''Return the string representation of the map object'''\n",
    "        return str([i for i in self._items if i])\n"
   ]
  },
  {
   "cell_type": "code",
   "execution_count": 3,
   "metadata": {
    "collapsed": false
   },
   "outputs": [
    {
     "name": "stdout",
     "output_type": "stream",
     "text": [
      "[(33, 'Alice')]\n",
      "Items in the map: 1\n",
      "[(33, 'Alice'), (25, 'Chuck'), (35, 'Bob')]\n",
      "Items in the map: 3\n",
      "Key 33 in the map: True\n",
      "Key 34 in the map: False\n",
      "[(33, 'Alice'), (25, 'Chuck'), (35, 'Dave')]\n",
      "Items in the map: 3\n"
     ]
    }
   ],
   "source": [
    "m = Map()\n",
    "m.put(33, \"Alice\")\n",
    "print(m)\n",
    "print(\"Items in the map: {}\".format(len(m)))\n",
    "m.put(25, \"Chuck\")\n",
    "m.put(35, \"Bob\")\n",
    "print(m)\n",
    "print(\"Items in the map: {}\".format(len(m)))\n",
    "print(\"Key 33 in the map: {}\".format(33 in m))\n",
    "print(\"Key 34 in the map: {}\".format(34 in m))\n",
    "m.put(35, \"Dave\")\n",
    "print(m)\n",
    "print(\"Items in the map: {}\".format(len(m)))"
   ]
  }
 ],
 "metadata": {
  "kernelspec": {
   "display_name": "Python 3",
   "language": "python",
   "name": "python3"
  },
  "language_info": {
   "codemirror_mode": {
    "name": "ipython",
    "version": 3
   },
   "file_extension": ".py",
   "mimetype": "text/x-python",
   "name": "python",
   "nbconvert_exporter": "python",
   "pygments_lexer": "ipython3",
   "version": "3.5.1"
  }
 },
 "nbformat": 4,
 "nbformat_minor": 2
}
