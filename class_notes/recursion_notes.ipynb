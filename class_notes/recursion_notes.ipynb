{
 "cells": [
  {
   "cell_type": "markdown",
   "metadata": {},
   "source": [
    "# Recursion"
   ]
  },
  {
   "cell_type": "code",
   "execution_count": 19,
   "metadata": {
    "collapsed": true
   },
   "outputs": [],
   "source": [
    "def my_sum(lst):\n",
    "    \"\"\"Sum all the items in a list recursively\"\"\"\n",
    "    if len(lst) == 0:\n",
    "        return 0\n",
    "    if len(lst) == 1:\n",
    "        return lst[0]\n",
    "    else:\n",
    "        return my_sum(lst[1:]) + lst[0]"
   ]
  },
  {
   "cell_type": "code",
   "execution_count": 21,
   "metadata": {},
   "outputs": [
    {
     "name": "stdout",
     "output_type": "stream",
     "text": [
      "122\n"
     ]
    }
   ],
   "source": [
    "my_lst = [7, 42, 73]\n",
    "print(my_sum(my_lst))"
   ]
  },
  {
   "cell_type": "markdown",
   "metadata": {},
   "source": [
    "## Calculating the factorial"
   ]
  },
  {
   "cell_type": "code",
   "execution_count": 16,
   "metadata": {},
   "outputs": [],
   "source": [
    "def fact_iter(n):\n",
    "    \"\"\"Iterative implementations of the factorial\"\"\"\n",
    "    result = 1\n",
    "    for num in range(1, n+1):\n",
    "        result *= num\n",
    "    return result\n",
    "\n",
    "def fact_rec_simple(n):\n",
    "    \"\"\"Simple recursive implementations of the factorial\"\"\"\n",
    "    if n < 2:\n",
    "        return 1\n",
    "    else:\n",
    "        return n * fact_rec_simple(n-1)\n",
    "\n",
    "known_fact = {}\n",
    "def fact_rec_memo(n):\n",
    "    \"\"\"Recursive implementations of the factorial using memoization\"\"\"\n",
    "    if n < 2:\n",
    "        return 1\n",
    "    else:\n",
    "        if n not in known_fact:\n",
    "            known_fact[n] = n * fact_rec_memo(n-1)\n",
    "    return known_fact[n]\n",
    "    \n",
    "from functools import lru_cache\n",
    "@lru_cache(maxsize=None)\n",
    "def fact_rec_cached(n):\n",
    "    \"\"\"Recursive implementations of the factorial using functools\"\"\"\n",
    "    if n < 2:\n",
    "        return 1\n",
    "    else:\n",
    "        return n * fact_rec_cached(n-1)"
   ]
  },
  {
   "cell_type": "code",
   "execution_count": 21,
   "metadata": {},
   "outputs": [
    {
     "name": "stdout",
     "output_type": "stream",
     "text": [
      "|Iterative |  Simple  | Memoized |  Cached  |\n",
      "---------------------------------------------\n",
      "| 3628800  | 3628800  | 3628800  | 3628800  |\n",
      "---------------------------------------------\n",
      "|  28.22   |  41.18   |   8.21   |   5.31   |\n",
      "CacheInfo(hits=54, misses=50, maxsize=None, currsize=50)\n"
     ]
    }
   ],
   "source": [
    "from timeit import timeit\n",
    "n = 10\n",
    "print(\"|{:^10}|{:^10}|{:^10}|{:^10}|\".format(\"Iterative\", \"Simple\", \"Memoized\", \"Cached\"))\n",
    "print(\"-\"*45)\n",
    "print(\"|{:^10}|{:^10}|{:^10}|{:^10}|\".format(fact_iter(n), fact_rec_simple(n), fact_rec_memo(n), fact_rec_cached(n)))\n",
    "print(\"-\"*45)\n",
    "print(\"|{:^10.2f}|{:^10.2f}|{:^10.2f}|{:^10.2f}|\".format(timeit('fact_iter('+str(n)+')', number=10, globals=globals()) * 1000000,\n",
    "                                           timeit('fact_rec_simple('+str(n)+')', number=10, globals=globals()) * 1000000,\n",
    "                                           timeit('fact_rec_memo('+str(n)+')', number=10, globals=globals()) * 1000000,\n",
    "                                           timeit('fact_rec_cached('+str(n)+')', number=10, globals=globals()) * 1000000))\n",
    "print(fact_rec_cached.cache_info())"
   ]
  },
  {
   "cell_type": "markdown",
   "metadata": {},
   "source": [
    "## Fibonacci"
   ]
  },
  {
   "cell_type": "code",
   "execution_count": 10,
   "metadata": {},
   "outputs": [],
   "source": [
    "def fibo_iter(n):\n",
    "    \"\"\"Iterative implementations of the Fibonacci\"\"\"\n",
    "    fibo1 = 1\n",
    "    fibo2 = 1\n",
    "    result = 1\n",
    "    for num in range(1, n):\n",
    "        result = fibo1 + fibo2\n",
    "        fibo1 = fibo2\n",
    "        fibo2 = result\n",
    "    return result\n",
    "\n",
    "def fibo_rec_simple(n):\n",
    "    \"\"\"Simple recursive implementations of the Fibonacci\"\"\"\n",
    "    if n < 2:\n",
    "        return 1\n",
    "    else:\n",
    "        return fibo_rec_simple(n-1) + fibo_rec_simple(n-2)\n",
    "\n",
    "known_fibo = {}\n",
    "def fibo_rec_memo(n):\n",
    "    \"\"\"Recursive implementations of the Fibonacci using memoization\"\"\"\n",
    "    if n < 2:\n",
    "        return 1\n",
    "    else:\n",
    "        if n not in known_fibo:\n",
    "            known_fibo[n] = fibo_rec_memo(n-1) + fibo_rec_memo(n-2)\n",
    "    return known_fibo[n]\n",
    "    \n",
    "from functools import lru_cache\n",
    "@lru_cache(maxsize=None)\n",
    "def fibo_rec_cached(n):\n",
    "    \"\"\"Recursive implementations of the Fibonacci using functools\"\"\"\n",
    "    if n < 2:\n",
    "        return 1\n",
    "    else:\n",
    "        return fibo_rec_cached(n-1) + fibo_rec_cached(n-2)"
   ]
  },
  {
   "cell_type": "code",
   "execution_count": 22,
   "metadata": {},
   "outputs": [
    {
     "name": "stdout",
     "output_type": "stream",
     "text": [
      "|Iterative |  Simple  | Memoized |  Cached  |\n",
      "-----------------------------------------\n",
      "|    89    |    89    |    89    |    89    |\n",
      "---------------------------------------------\n",
      "|  14.24   |  290.00  |   4.08   |   2.65   |\n",
      "CacheInfo(hits=52, misses=11, maxsize=None, currsize=11)\n"
     ]
    }
   ],
   "source": [
    "from timeit import timeit\n",
    "n = 10\n",
    "print(\"|{:^10}|{:^10}|{:^10}|{:^10}|\".format(\"Iterative\", \"Simple\", \"Memoized\", \"Cached\"))\n",
    "print(\"-\"*41)\n",
    "print(\"|{:^10}|{:^10}|{:^10}|{:^10}|\".format(fibo_iter(n), fibo_rec_simple(n), fibo_rec_memo(n), fibo_rec_cached(n)))\n",
    "print(\"-\"*45)\n",
    "print(\"|{:^10.2f}|{:^10.2f}|{:^10.2f}|{:^10.2f}|\".format(timeit('fibo_iter('+str(n)+')', number=10, globals=globals()) * 1000000,\n",
    "                                           timeit('fibo_rec_simple('+str(n)+')', number=10, globals=globals()) * 1000000,\n",
    "                                           timeit('fibo_rec_memo('+str(n)+')', number=10, globals=globals()) * 1000000,\n",
    "                                           timeit('fibo_rec_cached('+str(n)+')', number=10, globals=globals()) * 1000000))\n",
    "print(fibo_rec_cached.cache_info())"
   ]
  }
 ],
 "metadata": {
  "kernelspec": {
   "display_name": "Python 3",
   "language": "python",
   "name": "python3"
  },
  "language_info": {
   "codemirror_mode": {
    "name": "ipython",
    "version": 3
   },
   "file_extension": ".py",
   "mimetype": "text/x-python",
   "name": "python",
   "nbconvert_exporter": "python",
   "pygments_lexer": "ipython3",
   "version": "3.5.1"
  }
 },
 "nbformat": 4,
 "nbformat_minor": 2
}
