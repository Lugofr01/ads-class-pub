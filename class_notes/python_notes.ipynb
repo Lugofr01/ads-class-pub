{
 "cells": [
  {
   "cell_type": "code",
   "execution_count": 37,
   "metadata": {
    "collapsed": false,
    "deletable": true,
    "editable": true
   },
   "outputs": [],
   "source": [
    "exam = {'Alice':90, 'Bob':None, 'Chuck':80, 'Dave':85, 'Eve':None}"
   ]
  },
  {
   "cell_type": "code",
   "execution_count": 39,
   "metadata": {
    "collapsed": false,
    "deletable": true,
    "editable": true
   },
   "outputs": [
    {
     "name": "stdout",
     "output_type": "stream",
     "text": [
      "No result for student Eve\n",
      "No result for student Bob\n",
      "Alice scored 90\n",
      "Dave scored 85\n",
      "Chuck scored 80\n"
     ]
    }
   ],
   "source": [
    "for name, score in exam.items():\n",
    "    if score:\n",
    "        print('{} scored {}'.format(name, score))\n",
    "    else:\n",
    "        print('No result for student {}'.format(name))    "
   ]
  },
  {
   "cell_type": "code",
   "execution_count": 44,
   "metadata": {
    "collapsed": false,
    "deletable": true,
    "editable": true
   },
   "outputs": [
    {
     "name": "stdout",
     "output_type": "stream",
     "text": [
      "Alice!!!\n",
      "Alice scored 90\n",
      "Dave scored 85\n"
     ]
    }
   ],
   "source": [
    "for name, score in exam.items():\n",
    "    if score and score > 80:\n",
    "        if name == 'Alice':\n",
    "            print('Alice!!!')\n",
    "        print('{} scored {}'.format(name, score))"
   ]
  },
  {
   "cell_type": "code",
   "execution_count": 28,
   "metadata": {
    "collapsed": false,
    "deletable": true,
    "editable": true
   },
   "outputs": [],
   "source": [
    "def cond_1(lst):\n",
    "    lst[0] = 10\n",
    "    return sum(lst)\n",
    "def cond_2(lst):\n",
    "    lst[0] = 20\n",
    "    return sum(lst)"
   ]
  },
  {
   "cell_type": "code",
   "execution_count": 29,
   "metadata": {
    "collapsed": false,
    "deletable": true,
    "editable": true
   },
   "outputs": [
    {
     "name": "stdout",
     "output_type": "stream",
     "text": [
      "[1, 2, 3]\n",
      "[10, 2, 3]\n"
     ]
    }
   ],
   "source": [
    "lst_init = [1, 2, 3]\n",
    "print(lst_init)\n",
    "if cond_1(lst_init) > 20 and cond_2(lst_init) > 20:\n",
    "    print('AND is True')\n",
    "print(lst_init)"
   ]
  },
  {
   "cell_type": "code",
   "execution_count": 31,
   "metadata": {
    "collapsed": false,
    "deletable": true,
    "editable": true
   },
   "outputs": [
    {
     "name": "stdout",
     "output_type": "stream",
     "text": [
      "[1, 2, 3]\n",
      "OR is True\n",
      "[20, 2, 3]\n"
     ]
    }
   ],
   "source": [
    "lst_init = [1, 2, 3]\n",
    "print(lst_init)\n",
    "if cond_1(lst_init) > 20 or cond_2(lst_init) > 20:\n",
    "    print('OR is True')\n",
    "print(lst_init)"
   ]
  },
  {
   "cell_type": "code",
   "execution_count": null,
   "metadata": {
    "collapsed": true,
    "deletable": true,
    "editable": true
   },
   "outputs": [],
   "source": []
  }
 ],
 "metadata": {
  "kernelspec": {
   "display_name": "Python 3",
   "language": "python",
   "name": "python3"
  },
  "language_info": {
   "codemirror_mode": {
    "name": "ipython",
    "version": 3
   },
   "file_extension": ".py",
   "mimetype": "text/x-python",
   "name": "python",
   "nbconvert_exporter": "python",
   "pygments_lexer": "ipython3",
   "version": "3.5.1"
  }
 },
 "nbformat": 4,
 "nbformat_minor": 2
}
