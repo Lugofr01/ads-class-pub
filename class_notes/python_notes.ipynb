{
 "cells": [
  {
   "cell_type": "markdown",
   "metadata": {},
   "source": [
    "# Python Basics\n",
    "\n",
    "## Topics\n",
    " - Formatted output\n",
    " - Data types\n",
    " - Conditions\n",
    " - Loops\n",
    " - Collections\n",
    " - File I/O\n",
    " - Functions\n",
    " - Exceptions\n",
    "\n",
    "Lists, tuples, sets, and dictionaries are Python collection data types. They offer different options when it comes to keeping data together. Lists are (arguably) the most versatile and the easiest to grasp (think arrays in other languages). Dictionaries are usually the most efficient.\n",
    "\n",
    "## References\n",
    " - Comprehensive Python review: [Tiny-Python-3.6-Notebook](https://github.com/mattharrison/Tiny-Python-3.6-Notebook/blob/master/python.rst)\n",
    " - Using formatted output: [PyFormat: Using % and .format() for great good!](https://pyformat.info/)\n",
    " - Python data types: [4. Built-in Types — Python 3.6.2 documentation](https://docs.python.org/3/library/stdtypes.html)\n",
    " - Python exception handling: [8. Errors and Exceptions — Python 3.6.2 documentation](https://docs.python.org/3/tutorial/errors.html)"
   ]
  },
  {
   "cell_type": "code",
   "execution_count": 1,
   "metadata": {},
   "outputs": [
    {
     "name": "stdout",
     "output_type": "stream",
     "text": [
      "3.5.1 (default, Apr 23 2017, 08:56:12) \n",
      "[GCC 4.8.4]\n",
      "Python version is 3.5.1\n"
     ]
    }
   ],
   "source": [
    "import platform\n",
    "import sys\n",
    "print(sys.version)\n",
    "print('Python version is', platform.python_version())"
   ]
  },
  {
   "cell_type": "code",
   "execution_count": 2,
   "metadata": {},
   "outputs": [
    {
     "name": "stdout",
     "output_type": "stream",
     "text": [
      "Algorithms and Data Structures (CS160)\n"
     ]
    }
   ],
   "source": [
    "# Basic output\n",
    "department = \"CS\"\n",
    "number = 160\n",
    "title = \"Algorithms and Data Structures\"\n",
    "print(title + ' (' + department + str(number) + ')')"
   ]
  },
  {
   "cell_type": "code",
   "execution_count": 3,
   "metadata": {},
   "outputs": [
    {
     "name": "stdout",
     "output_type": "stream",
     "text": [
      "Algorithms and Data Structures (CS160)\n"
     ]
    }
   ],
   "source": [
    "# Formatted output\n",
    "print('{} ({}{})'.format(title, department, number))"
   ]
  },
  {
   "cell_type": "code",
   "execution_count": 4,
   "metadata": {},
   "outputs": [
    {
     "name": "stdout",
     "output_type": "stream",
     "text": [
      "2 + 3 = 5\n",
      "2 - 3 = -1\n",
      "2 * 3 = 6\n",
      "2 / 3 = 0.6666666666666666\n",
      "2 // 3 = 0\n",
      "2 ** 3 = 8\n",
      "int(2.0) = 2\n",
      "3.0 is an integer: True\n",
      "4.5 = (9, 2)\n"
     ]
    }
   ],
   "source": [
    "# Basic operations\n",
    "a = 2\n",
    "b = 3\n",
    "c = 2.0\n",
    "d = 3.0\n",
    "e = 4.5\n",
    "print('{} + {} = {}'.format(a, b, a + b))\n",
    "print('{} - {} = {}'.format(a, b, a - b))\n",
    "print('{} * {} = {}'.format(a, b, a * b))\n",
    "print('{} / {} = {}'.format(a, b, a / b))\n",
    "print('{} // {} = {}'.format(a, b, a // b))\n",
    "print('{} ** {} = {}'.format(a, b, a ** b))\n",
    "print('int({}) = {}'.format(c, int(c)))\n",
    "print('{} is an integer: {}'.format(d, d.is_integer()))\n",
    "print('{} = {}'.format(e, e.as_integer_ratio()))"
   ]
  },
  {
   "cell_type": "code",
   "execution_count": 5,
   "metadata": {},
   "outputs": [
    {
     "name": "stdout",
     "output_type": "stream",
     "text": [
      "hello\tthere\n",
      "hello\\tthere\n",
      "2\n",
      "1\n",
      "True\n",
      "  This   is   a   sentence with lots of space  \n",
      "This   is   a   sentence with lots of space  \n",
      "['This', 'is', 'a', 'sentence', 'with', 'lots', 'of', 'space']\n",
      "['This', 'is', 'a', 'sentence', 'with', 'lots', 'of', 'space']\n"
     ]
    }
   ],
   "source": [
    "# Strings\n",
    "print('hello\\tthere')\n",
    "print(r'hello\\tthere')\n",
    "s = 'Hello World'\n",
    "print(s.count('o'))\n",
    "print(s.count('o', 4, 7))\n",
    "a = '42'\n",
    "print(a.isnumeric())\n",
    "phrase = '  This   is   a   sentence with lots of space  '\n",
    "print(phrase)\n",
    "print(phrase.lstrip())\n",
    "print(phrase.strip().split())\n",
    "print(phrase.split())"
   ]
  },
  {
   "cell_type": "code",
   "execution_count": 6,
   "metadata": {},
   "outputs": [
    {
     "name": "stdout",
     "output_type": "stream",
     "text": [
      "h\n"
     ]
    },
    {
     "ename": "TypeError",
     "evalue": "'str' object does not support item assignment",
     "output_type": "error",
     "traceback": [
      "\u001b[0;31m---------------------------------------------------------------------------\u001b[0m",
      "\u001b[0;31mTypeError\u001b[0m                                 Traceback (most recent call last)",
      "\u001b[0;32m<ipython-input-6-5a28be95e691>\u001b[0m in \u001b[0;36m<module>\u001b[0;34m()\u001b[0m\n\u001b[1;32m      2\u001b[0m \u001b[0ms\u001b[0m \u001b[0;34m=\u001b[0m \u001b[0;34m'hello'\u001b[0m\u001b[0;34m\u001b[0m\u001b[0m\n\u001b[1;32m      3\u001b[0m \u001b[0mprint\u001b[0m\u001b[0;34m(\u001b[0m\u001b[0ms\u001b[0m\u001b[0;34m[\u001b[0m\u001b[0;36m0\u001b[0m\u001b[0;34m]\u001b[0m\u001b[0;34m)\u001b[0m\u001b[0;34m\u001b[0m\u001b[0m\n\u001b[0;32m----> 4\u001b[0;31m \u001b[0ms\u001b[0m\u001b[0;34m[\u001b[0m\u001b[0;36m0\u001b[0m\u001b[0;34m]\u001b[0m \u001b[0;34m=\u001b[0m \u001b[0;34m'b'\u001b[0m\u001b[0;34m\u001b[0m\u001b[0m\n\u001b[0m",
      "\u001b[0;31mTypeError\u001b[0m: 'str' object does not support item assignment"
     ]
    }
   ],
   "source": [
    "# Strings are immutable\n",
    "s = 'hello'\n",
    "print(s[0])\n",
    "s[0] = 'b'"
   ]
  },
  {
   "cell_type": "code",
   "execution_count": 7,
   "metadata": {},
   "outputs": [
    {
     "name": "stdout",
     "output_type": "stream",
     "text": [
      "[1, 2, 3]\n"
     ]
    }
   ],
   "source": [
    "# List are ordered mutable sequences\n",
    "lst = [1, 2, 3]\n",
    "print(lst)"
   ]
  },
  {
   "cell_type": "code",
   "execution_count": 8,
   "metadata": {},
   "outputs": [
    {
     "name": "stdout",
     "output_type": "stream",
     "text": [
      "1 3 "
     ]
    }
   ],
   "source": [
    "# Iterating the list\n",
    "for item in lst:\n",
    "    if item % 2:  # no need to say item % 2 == 1\n",
    "        print(item, end=' ')"
   ]
  },
  {
   "cell_type": "code",
   "execution_count": 9,
   "metadata": {},
   "outputs": [
    {
     "name": "stdout",
     "output_type": "stream",
     "text": [
      "bool(False) is False\n",
      "bool(None) is False\n",
      "bool(0) is False\n",
      "bool() is False\n",
      "bool([]) is False\n",
      "bool(()) is False\n",
      "bool({}) is False\n"
     ]
    }
   ],
   "source": [
    "# These are boolean False values in Python\n",
    "lst_false = [False, None, 0, '', [], (), {}]\n",
    "for item in lst_false:\n",
    "    print('bool({}) is {}'.format(item, bool(item)))"
   ]
  },
  {
   "cell_type": "code",
   "execution_count": 10,
   "metadata": {},
   "outputs": [
    {
     "name": "stdout",
     "output_type": "stream",
     "text": [
      "[1, 2, 3]\n",
      "[1, 2, 3]\n"
     ]
    }
   ],
   "source": [
    "# (Not) changing the list items\n",
    "print(lst)\n",
    "for item in lst:\n",
    "    item = item + 1\n",
    "print(lst)"
   ]
  },
  {
   "cell_type": "code",
   "execution_count": 11,
   "metadata": {},
   "outputs": [
    {
     "name": "stdout",
     "output_type": "stream",
     "text": [
      "[1, 2, 3]\n",
      "[2, 3, 4]\n"
     ]
    }
   ],
   "source": [
    "# Changing the list items\n",
    "print(lst)\n",
    "for i in range(len(lst)):\n",
    "    lst[i] = lst[i] + 1\n",
    "print(lst)"
   ]
  },
  {
   "cell_type": "code",
   "execution_count": 12,
   "metadata": {},
   "outputs": [
    {
     "name": "stdout",
     "output_type": "stream",
     "text": [
      "[1, 2, 3, 4, 5, 6]\n",
      "[1, 2, 3, 4, 5, 6]\n",
      "[1, 2, 3, 4, 5, 6, [4, 5, 6]]\n"
     ]
    }
   ],
   "source": [
    "# Merging lists\n",
    "lst_1 = [1, 2, 3]\n",
    "lst_2 = [4, 5, 6]\n",
    "lst_3 = lst_1 + lst_2\n",
    "print(lst_3)\n",
    "lst_3 = lst_1.extend(lst_2)\n",
    "print(lst_1)\n",
    "lst_3 = lst_1.append(lst_2)\n",
    "print(lst_1)"
   ]
  },
  {
   "cell_type": "code",
   "execution_count": 13,
   "metadata": {},
   "outputs": [
    {
     "name": "stdout",
     "output_type": "stream",
     "text": [
      "[160, 2, 3]\n"
     ]
    }
   ],
   "source": [
    "# Copying lists\n",
    "lst_1 = [1, 2, 3]\n",
    "lst_2 = lst_1\n",
    "lst_2[0] = 160\n",
    "print(lst_1)"
   ]
  },
  {
   "cell_type": "code",
   "execution_count": 14,
   "metadata": {},
   "outputs": [
    {
     "name": "stdout",
     "output_type": "stream",
     "text": [
      "[1, 2, 3]\n"
     ]
    }
   ],
   "source": [
    "# Copying lists done right\n",
    "lst_1 = [1, 2, 3]\n",
    "lst_2 = lst_1[:]\n",
    "lst_2[0] = 160\n",
    "print(lst_1)"
   ]
  },
  {
   "cell_type": "code",
   "execution_count": 15,
   "metadata": {},
   "outputs": [
    {
     "name": "stdout",
     "output_type": "stream",
     "text": [
      "Today is Wednesday\n"
     ]
    }
   ],
   "source": [
    "# Joining list elements\n",
    "import random\n",
    "lst = ['Today', 'is']\n",
    "days = ['Sunday', 'Monday', 'Tuesday', 'Wednesday', 'Thursday', 'Friday', 'Saturday']\n",
    "print(' '.join(lst) + ' ' + random.choice(days))"
   ]
  },
  {
   "cell_type": "code",
   "execution_count": 16,
   "metadata": {},
   "outputs": [
    {
     "name": "stdout",
     "output_type": "stream",
     "text": [
      "List of True values: [160, True, 'CS', {'a': 1}]\n",
      "Values and their types\n",
      "('', <class 'str'>)\n",
      "(160, <class 'int'>)\n",
      "(None, <class 'NoneType'>)\n",
      "(0, <class 'int'>)\n",
      "(True, <class 'bool'>)\n",
      "(False, <class 'bool'>)\n",
      "('', <class 'str'>)\n",
      "('CS', <class 'str'>)\n",
      "([], <class 'list'>)\n",
      "({'a': 1}, <class 'dict'>)\n",
      "({}, <class 'dict'>)\n",
      "(set(), <class 'set'>)\n",
      "(0.0, <class 'float'>)\n",
      "(0j, <class 'complex'>)\n",
      "((), <class 'tuple'>)\n"
     ]
    }
   ],
   "source": [
    "# List comprehension\n",
    "lst = ['', 160, None, 0, True, False, \"\", 'CS', [], dict({'a': 1}), {}, set(), 0.0, 0j, ()]\n",
    "lst_2 = [x for x in lst if x]\n",
    "print('List of True values: {}'.format(lst_2))\n",
    "lst_3 = [(x, type(x)) for x in lst]\n",
    "print('Values and their types')\n",
    "for item in lst_3:\n",
    "    print(item)"
   ]
  },
  {
   "cell_type": "code",
   "execution_count": 17,
   "metadata": {},
   "outputs": [
    {
     "name": "stdout",
     "output_type": "stream",
     "text": [
      "(1, 2, 3)\n"
     ]
    }
   ],
   "source": [
    "# Tuple\n",
    "tpl = (1, 2, 3)\n",
    "print(tpl)"
   ]
  },
  {
   "cell_type": "code",
   "execution_count": 18,
   "metadata": {},
   "outputs": [
    {
     "name": "stdout",
     "output_type": "stream",
     "text": [
      "(1, 2, 3)\n"
     ]
    },
    {
     "ename": "TypeError",
     "evalue": "'tuple' object does not support item assignment",
     "output_type": "error",
     "traceback": [
      "\u001b[0;31m---------------------------------------------------------------------------\u001b[0m",
      "\u001b[0;31mTypeError\u001b[0m                                 Traceback (most recent call last)",
      "\u001b[0;32m<ipython-input-18-6288b8c5407f>\u001b[0m in \u001b[0;36m<module>\u001b[0;34m()\u001b[0m\n\u001b[1;32m      2\u001b[0m \u001b[0mprint\u001b[0m\u001b[0;34m(\u001b[0m\u001b[0mtpl\u001b[0m\u001b[0;34m)\u001b[0m\u001b[0;34m\u001b[0m\u001b[0m\n\u001b[1;32m      3\u001b[0m \u001b[0;32mfor\u001b[0m \u001b[0mi\u001b[0m \u001b[0;32min\u001b[0m \u001b[0mrange\u001b[0m\u001b[0;34m(\u001b[0m\u001b[0mlen\u001b[0m\u001b[0;34m(\u001b[0m\u001b[0mtpl\u001b[0m\u001b[0;34m)\u001b[0m\u001b[0;34m)\u001b[0m\u001b[0;34m:\u001b[0m\u001b[0;34m\u001b[0m\u001b[0m\n\u001b[0;32m----> 4\u001b[0;31m     \u001b[0mtpl\u001b[0m\u001b[0;34m[\u001b[0m\u001b[0mi\u001b[0m\u001b[0;34m]\u001b[0m \u001b[0;34m=\u001b[0m \u001b[0mtpl\u001b[0m\u001b[0;34m[\u001b[0m\u001b[0mi\u001b[0m\u001b[0;34m]\u001b[0m \u001b[0;34m+\u001b[0m \u001b[0;36m1\u001b[0m\u001b[0;34m\u001b[0m\u001b[0m\n\u001b[0m\u001b[1;32m      5\u001b[0m \u001b[0mprint\u001b[0m\u001b[0;34m(\u001b[0m\u001b[0mtpl\u001b[0m\u001b[0;34m)\u001b[0m\u001b[0;34m\u001b[0m\u001b[0m\n",
      "\u001b[0;31mTypeError\u001b[0m: 'tuple' object does not support item assignment"
     ]
    }
   ],
   "source": [
    "# Tuples are immutable sequences\n",
    "print(tpl)\n",
    "for i in range(len(tpl)):\n",
    "    tpl[i] = tpl[i] + 1\n",
    "print(tpl)"
   ]
  },
  {
   "cell_type": "code",
   "execution_count": 19,
   "metadata": {},
   "outputs": [
    {
     "name": "stdout",
     "output_type": "stream",
     "text": [
      "Alice Anderson was born in 2000 and has GPA of 3.50\n",
      "Alice Anderson was born in 2000 and has GPA of 3.50\n",
      "Alice Anderson was born in 2000 and has GPA of 3.50\n"
     ]
    }
   ],
   "source": [
    "# Named tuples\n",
    "student = ('Alice', 'Anderson', 2000, 3.5)\n",
    "print('%s %s was born in %d and has GPA of %.2f' %  student)\n",
    "print('{} {} was born in {} and has GPA of {:1.2f}'.format(student[0], student[1], student[2], student[3]))\n",
    "from collections import namedtuple\n",
    "Person = namedtuple('Person', 'first, last, year, gpa')\n",
    "student = Person('Alice', 'Anderson', 2000, 3.5)\n",
    "print('{} {} was born in {} and has GPA of {:1.2f}'.format(student.first, student.last, student.year, student.gpa))"
   ]
  },
  {
   "cell_type": "code",
   "execution_count": 20,
   "metadata": {
    "collapsed": true
   },
   "outputs": [],
   "source": [
    "# Dictionary is a mutable mapping of keys to values\n",
    "exam = {'Alice': 90, 'Bob': None, 'Chuck': 80, 'Dave': 85, 'Eve': None}"
   ]
  },
  {
   "cell_type": "code",
   "execution_count": 21,
   "metadata": {},
   "outputs": [
    {
     "name": "stdout",
     "output_type": "stream",
     "text": [
      "90\n"
     ]
    },
    {
     "ename": "KeyError",
     "evalue": "'James'",
     "output_type": "error",
     "traceback": [
      "\u001b[0;31m---------------------------------------------------------------------------\u001b[0m",
      "\u001b[0;31mKeyError\u001b[0m                                  Traceback (most recent call last)",
      "\u001b[0;32m<ipython-input-21-98251f34925e>\u001b[0m in \u001b[0;36m<module>\u001b[0;34m()\u001b[0m\n\u001b[1;32m      1\u001b[0m \u001b[0;31m# A key must be in the dictionary or else\u001b[0m\u001b[0;34m\u001b[0m\u001b[0;34m\u001b[0m\u001b[0m\n\u001b[1;32m      2\u001b[0m \u001b[0mprint\u001b[0m\u001b[0;34m(\u001b[0m\u001b[0mexam\u001b[0m\u001b[0;34m[\u001b[0m\u001b[0;34m'Alice'\u001b[0m\u001b[0;34m]\u001b[0m\u001b[0;34m)\u001b[0m\u001b[0;34m\u001b[0m\u001b[0m\n\u001b[0;32m----> 3\u001b[0;31m \u001b[0mprint\u001b[0m\u001b[0;34m(\u001b[0m\u001b[0mexam\u001b[0m\u001b[0;34m[\u001b[0m\u001b[0;34m'James'\u001b[0m\u001b[0;34m]\u001b[0m\u001b[0;34m)\u001b[0m  \u001b[0;31m# how to fix this line?\u001b[0m\u001b[0;34m\u001b[0m\u001b[0m\n\u001b[0m",
      "\u001b[0;31mKeyError\u001b[0m: 'James'"
     ]
    }
   ],
   "source": [
    "# A key must be in the dictionary or else\n",
    "print(exam['Alice'])\n",
    "print(exam['James'])  # how to fix this line?"
   ]
  },
  {
   "cell_type": "code",
   "execution_count": 22,
   "metadata": {},
   "outputs": [
    {
     "name": "stdout",
     "output_type": "stream",
     "text": [
      "Alice scored 90\n",
      "No result for student Eve\n",
      "Dave scored 85\n",
      "No result for student Bob\n",
      "Chuck scored 80\n"
     ]
    }
   ],
   "source": [
    "# Iterating through the dictionary\n",
    "for name, score in exam.items():\n",
    "    if score:\n",
    "        print('{} scored {}'.format(name, score))\n",
    "    else:\n",
    "        print('No result for student {}'.format(name))"
   ]
  },
  {
   "cell_type": "code",
   "execution_count": 23,
   "metadata": {},
   "outputs": [
    {
     "name": "stdout",
     "output_type": "stream",
     "text": [
      "90\n",
      "None\n",
      "85\n",
      "None\n",
      "80\n"
     ]
    }
   ],
   "source": [
    "# Iterating through the dictionary. Keys are used by default\n",
    "for key in exam:\n",
    "    print(exam[key])"
   ]
  },
  {
   "cell_type": "code",
   "execution_count": 24,
   "metadata": {},
   "outputs": [
    {
     "name": "stdout",
     "output_type": "stream",
     "text": [
      "dict_items([('Alice', 90), ('Eve', None), ('Dave', 85), ('Bob', None), ('Chuck', 80)])\n",
      "dict_keys(['Alice', 'Eve', 'Dave', 'Bob', 'Chuck'])\n",
      "dict_values([90, None, 85, None, 80])\n"
     ]
    }
   ],
   "source": [
    "# Iterating through the dictionary\n",
    "print(exam.items())\n",
    "print(exam.keys())\n",
    "print(exam.values())"
   ]
  },
  {
   "cell_type": "code",
   "execution_count": 25,
   "metadata": {},
   "outputs": [
    {
     "name": "stdout",
     "output_type": "stream",
     "text": [
      "Alice scored 90\n",
      "Dave scored 85\n"
     ]
    }
   ],
   "source": [
    "for name, score in exam.items():\n",
    "    if score and score > 80:  # how to fix this line?\n",
    "        print('{} scored {}'.format(name, score))"
   ]
  },
  {
   "cell_type": "code",
   "execution_count": 26,
   "metadata": {},
   "outputs": [
    {
     "name": "stdout",
     "output_type": "stream",
     "text": [
      "{'Alice', 'Bob'}\n"
     ]
    }
   ],
   "source": [
    "# Set is a mutable unordered collection\n",
    "roster = set()  # roster = {} creates a dictionary\n",
    "roster.add('Alice')\n",
    "roster.add('Bob')\n",
    "print(roster)"
   ]
  },
  {
   "cell_type": "code",
   "execution_count": 27,
   "metadata": {},
   "outputs": [
    {
     "name": "stdout",
     "output_type": "stream",
     "text": [
      "{'Alice', 'Bob'}\n"
     ]
    }
   ],
   "source": [
    "# Sets contain unique elements\n",
    "roster.add('Alice')\n",
    "print(roster)"
   ]
  },
  {
   "cell_type": "code",
   "execution_count": 28,
   "metadata": {},
   "outputs": [
    {
     "name": "stdout",
     "output_type": "stream",
     "text": [
      "any([0, 1]) = True\n",
      "all([0, 1]) = False\n",
      "{'Friday', 'Thursday', 'Tuesday', 'Monday', 'Sunday', 'Wednesday', 'Saturday'}\n",
      "[True, False, False, False, False, False, False]\n",
      "any day in words: True\n"
     ]
    }
   ],
   "source": [
    "# Built-in functions\n",
    "test = [0, 1]\n",
    "print('any({}) = {}'.format(test, any(test)))\n",
    "print('all({}) = {}'.format(test, all(test)))\n",
    "days = set(['Sunday', 'Monday', 'Tuesday', 'Wednesday', 'Thursday', 'Friday', 'Saturday'])\n",
    "words = ['Aardvark', 'Bison', 'Cheetah', 'Duck', 'Elephant', 'Friday']\n",
    "print(days)\n",
    "print([w in words for w in days])\n",
    "print('any day in words: {}'.format(any(w in words for w in days)))"
   ]
  },
  {
   "cell_type": "code",
   "execution_count": 29,
   "metadata": {
    "collapsed": true
   },
   "outputs": [],
   "source": [
    "# Functions\n",
    "def cond_1(lst):\n",
    "    lst[0] = 10\n",
    "    return sum(lst)\n",
    "def cond_2(lst):\n",
    "    lst[0] = 20\n",
    "    return sum(lst)"
   ]
  },
  {
   "cell_type": "code",
   "execution_count": 30,
   "metadata": {},
   "outputs": [
    {
     "name": "stdout",
     "output_type": "stream",
     "text": [
      "[1, 2, 3]\n",
      "[10, 2, 3]\n"
     ]
    }
   ],
   "source": [
    "# Short-circuit evaluation\n",
    "lst_init = [1, 2, 3]\n",
    "print(lst_init)\n",
    "if cond_1(lst_init) > 20 and cond_2(lst_init) > 20:  # cond_2 is not evaluated\n",
    "    print('AND is True')\n",
    "print(lst_init)"
   ]
  },
  {
   "cell_type": "code",
   "execution_count": 31,
   "metadata": {},
   "outputs": [
    {
     "name": "stdout",
     "output_type": "stream",
     "text": [
      "[1, 2, 3]\n",
      "OR is True\n",
      "[20, 2, 3]\n"
     ]
    }
   ],
   "source": [
    "# Short-circuit evaluation\n",
    "lst_init = [1, 2, 3]\n",
    "print(lst_init)\n",
    "if cond_1(lst_init) > 20 or cond_2(lst_init) > 20:  # cond_2 is evaluated\n",
    "    print('OR is True')\n",
    "print(lst_init)"
   ]
  },
  {
   "cell_type": "code",
   "execution_count": 32,
   "metadata": {},
   "outputs": [
    {
     "name": "stdout",
     "output_type": "stream",
     "text": [
      "42\n",
      "43\n",
      "<function simple_function at 0x7f0a4c01a048>\n"
     ]
    }
   ],
   "source": [
    "# Remember the parentheses\n",
    "def simple_function():\n",
    "    return 42\n",
    "print(simple_function())\n",
    "print(simple_function() + 1)\n",
    "print(simple_function)"
   ]
  },
  {
   "cell_type": "code",
   "execution_count": 33,
   "metadata": {},
   "outputs": [
    {
     "name": "stdout",
     "output_type": "stream",
     "text": [
      "42\n"
     ]
    }
   ],
   "source": [
    "# A function may not return a value\n",
    "def simple_function_2():\n",
    "    print(42)\n",
    "simple_function_2()"
   ]
  },
  {
   "cell_type": "code",
   "execution_count": 34,
   "metadata": {},
   "outputs": [
    {
     "name": "stdout",
     "output_type": "stream",
     "text": [
      "42\n",
      "None\n"
     ]
    }
   ],
   "source": [
    "print(simple_function_2())"
   ]
  },
  {
   "cell_type": "code",
   "execution_count": 35,
   "metadata": {},
   "outputs": [
    {
     "name": "stdout",
     "output_type": "stream",
     "text": [
      "<function simple_function_2 at 0x7f0a4c01a158>\n"
     ]
    }
   ],
   "source": [
    "print(simple_function_2)"
   ]
  },
  {
   "cell_type": "markdown",
   "metadata": {},
   "source": [
    "See [Python Tips](https://pythontips.com/2013/08/04/args-and-kwargs-in-python-explained/) for details on argv and kwargs."
   ]
  },
  {
   "cell_type": "code",
   "execution_count": 36,
   "metadata": {
    "collapsed": true
   },
   "outputs": [],
   "source": [
    "# Function parameters\n",
    "def sum_lst(a, b, c):\n",
    "    return a + b + c\n",
    "\n",
    "def sum_lst_2(*argv):\n",
    "    return sum(argv)"
   ]
  },
  {
   "cell_type": "code",
   "execution_count": 37,
   "metadata": {},
   "outputs": [
    {
     "name": "stdout",
     "output_type": "stream",
     "text": [
      "6\n"
     ]
    }
   ],
   "source": [
    "print(sum_lst(1, 2, 3))\n",
    "#print(sum_lst(1, 2, 3, 4))"
   ]
  },
  {
   "cell_type": "code",
   "execution_count": 38,
   "metadata": {},
   "outputs": [
    {
     "name": "stdout",
     "output_type": "stream",
     "text": [
      "0\n",
      "6\n",
      "10\n"
     ]
    }
   ],
   "source": [
    "print(sum_lst_2())\n",
    "print(sum_lst_2(1, 2, 3))\n",
    "print(sum_lst_2(1, 2, 3, 4))"
   ]
  },
  {
   "cell_type": "code",
   "execution_count": 39,
   "metadata": {},
   "outputs": [
    {
     "name": "stdout",
     "output_type": "stream",
     "text": [
      "4\n",
      "8\n",
      "9\n",
      "27\n"
     ]
    }
   ],
   "source": [
    "def mystery(mant, exp=2):\n",
    "    return mant ** exp\n",
    "print(mystery(2))\n",
    "print(mystery(2, 3))\n",
    "print(mystery(3))\n",
    "print(mystery(3, 3))"
   ]
  },
  {
   "cell_type": "code",
   "execution_count": 40,
   "metadata": {},
   "outputs": [
    {
     "name": "stdout",
     "output_type": "stream",
     "text": [
      "Bartlett, Linda\n",
      "\n",
      "Brown, Robert\n",
      "\n",
      "Carlson, Brandon\n",
      "\n",
      "Christensen, Autumn\n",
      "\n",
      "Davenport, Lisa\n",
      "\n",
      "Foster, Michael\n",
      "\n",
      "Gonzalez, Chelsea\n",
      "\n",
      "Gonzalez, Sarah\n",
      "\n",
      "Graham, Richard\n",
      "\n",
      "Green, Mary\n",
      "\n",
      "Gutierrez, Annette\n",
      "\n",
      "Hopkins, Timothy\n",
      "\n",
      "Johnson, William\n",
      "\n",
      "Jones, David\n",
      "\n",
      "Jones, Veronica\n",
      "\n",
      "King, Thomas\n",
      "\n",
      "Mckinney, Logan\n",
      "\n",
      "Newman, Jeffrey\n",
      "\n",
      "Nguyen, Michael\n",
      "\n",
      "Reynolds, Michelle\n",
      "\n",
      "Riddle, Savannah\n",
      "\n",
      "Romero, Brooke\n",
      "\n",
      "Scott, Deborah\n",
      "\n",
      "Scott, Lori\n",
      "\n",
      "Solomon, Cindy\n",
      "\n",
      "Swanson, Angela\n",
      "\n",
      "Wang, Donna\n",
      "\n",
      "Weaver, Robert\n",
      "\n",
      "White, Krista\n",
      "\n",
      "Wilson, Kevin\n"
     ]
    }
   ],
   "source": [
    "# File I/O\n",
    "with open('roster.txt', 'r') as input_file:\n",
    "    for line in input_file:\n",
    "        print(line)"
   ]
  },
  {
   "cell_type": "code",
   "execution_count": 41,
   "metadata": {},
   "outputs": [
    {
     "name": "stdout",
     "output_type": "stream",
     "text": [
      "Linda Bartlett\n",
      "Robert Brown\n",
      "Brandon Carlson\n",
      "Autumn Christensen\n",
      "Lisa Davenport\n",
      "Michael Foster\n",
      "Chelsea Gonzalez\n",
      "Sarah Gonzalez\n",
      "Richard Graham\n",
      "Mary Green\n",
      "Annette Gutierrez\n",
      "Timothy Hopkins\n",
      "William Johnson\n",
      "David Jones\n",
      "Veronica Jones\n",
      "Thomas King\n",
      "Logan Mckinney\n",
      "Jeffrey Newman\n",
      "Michael Nguyen\n",
      "Michelle Reynolds\n",
      "Savannah Riddle\n",
      "Brooke Romero\n",
      "Deborah Scott\n",
      "Lori Scott\n",
      "Cindy Solomon\n",
      "Angela Swanson\n",
      "Donna Wang\n",
      "Robert Weaver\n",
      "Krista White\n",
      "Kevin Wilson\n"
     ]
    }
   ],
   "source": [
    "# File I/O\n",
    "with open('roster.txt', 'r') as input_file:\n",
    "    for line in input_file:\n",
    "        print(line.strip().split(', ')[1] + ' ' + line.strip().split(', ')[0])"
   ]
  },
  {
   "cell_type": "code",
   "execution_count": 42,
   "metadata": {},
   "outputs": [
    {
     "name": "stdout",
     "output_type": "stream",
     "text": [
      "Reciprocal of 3 is 0.3333333333333333\n",
      "Reciprocal of 2 is 0.5\n",
      "Reciprocal of 1 is 1.0\n"
     ]
    },
    {
     "ename": "ZeroDivisionError",
     "evalue": "division by zero",
     "output_type": "error",
     "traceback": [
      "\u001b[0;31m---------------------------------------------------------------------------\u001b[0m",
      "\u001b[0;31mZeroDivisionError\u001b[0m                         Traceback (most recent call last)",
      "\u001b[0;32m<ipython-input-42-c35d7e9aef83>\u001b[0m in \u001b[0;36m<module>\u001b[0;34m()\u001b[0m\n\u001b[1;32m      2\u001b[0m \u001b[0mnumbers\u001b[0m \u001b[0;34m=\u001b[0m \u001b[0;34m[\u001b[0m\u001b[0;36m3\u001b[0m\u001b[0;34m,\u001b[0m \u001b[0;36m2\u001b[0m\u001b[0;34m,\u001b[0m \u001b[0;36m1\u001b[0m\u001b[0;34m,\u001b[0m \u001b[0;36m0\u001b[0m\u001b[0;34m]\u001b[0m\u001b[0;34m\u001b[0m\u001b[0m\n\u001b[1;32m      3\u001b[0m \u001b[0;32mfor\u001b[0m \u001b[0mn\u001b[0m \u001b[0;32min\u001b[0m \u001b[0mnumbers\u001b[0m\u001b[0;34m:\u001b[0m\u001b[0;34m\u001b[0m\u001b[0m\n\u001b[0;32m----> 4\u001b[0;31m     \u001b[0mprint\u001b[0m\u001b[0;34m(\u001b[0m\u001b[0;34m\"Reciprocal of {} is {}\"\u001b[0m\u001b[0;34m.\u001b[0m\u001b[0mformat\u001b[0m\u001b[0;34m(\u001b[0m\u001b[0mn\u001b[0m\u001b[0;34m,\u001b[0m \u001b[0;36m1\u001b[0m\u001b[0;34m/\u001b[0m\u001b[0mn\u001b[0m\u001b[0;34m)\u001b[0m\u001b[0;34m)\u001b[0m\u001b[0;34m\u001b[0m\u001b[0m\n\u001b[0m",
      "\u001b[0;31mZeroDivisionError\u001b[0m: division by zero"
     ]
    }
   ],
   "source": [
    "# (No) exceptions\n",
    "numbers = [3, 2, 1, 0]\n",
    "for n in numbers:\n",
    "    print(\"Reciprocal of {} is {}\".format(n, 1/n))"
   ]
  },
  {
   "cell_type": "code",
   "execution_count": 43,
   "metadata": {},
   "outputs": [
    {
     "name": "stdout",
     "output_type": "stream",
     "text": [
      "Reciprocal of 3 is 0.3333333333333333\n",
      "Number processed: 3\n",
      "Reciprocal of 2 is 0.5\n",
      "Number processed: 2\n",
      "Reciprocal of 1 is 1.0\n",
      "Number processed: 1\n",
      "division by zero\n",
      "Number processed: 0\n",
      "Something bad just happened\n",
      "Unexpected error: <class 'TypeError'>\n",
      "Number processed: hello\n"
     ]
    }
   ],
   "source": [
    "# Proper exception handling\n",
    "import sys\n",
    "numbers = [3, 2, 1, 0, 'hello']\n",
    "for n in numbers:\n",
    "    try:\n",
    "        print(\"Reciprocal of {} is {}\".format(n, 1/n))\n",
    "    except ZeroDivisionError as zde:\n",
    "        print(zde)\n",
    "    except:\n",
    "        print(\"Something bad just happened\")\n",
    "        print(\"Unexpected error:\", sys.exc_info()[0])\n",
    "    finally:\n",
    "        print(\"Number processed: {}\".format(n))"
   ]
  },
  {
   "cell_type": "code",
   "execution_count": 44,
   "metadata": {},
   "outputs": [
    {
     "name": "stdout",
     "output_type": "stream",
     "text": [
      "Reciprocal of 3 is 0.3333333333333333\n",
      "Reciprocal of 2 is 0.5\n",
      "Reciprocal of 1 is 1.0\n",
      "ZeroDivisionError: Cannot calculate the reciprocal of 0\n",
      "TypeError: unsupported operand type(s) for /: 'int' and 'str'\n"
     ]
    }
   ],
   "source": [
    "# Raising an exception\n",
    "def reci(n):\n",
    "    if n == 0:\n",
    "        raise ZeroDivisionError(\"Cannot calculate the reciprocal of 0\")\n",
    "    else:\n",
    "        return 1/n\n",
    "numbers = [3, 2, 1, 0, 'hello']\n",
    "for n in numbers:\n",
    "    try:\n",
    "        print(\"Reciprocal of {} is {}\".format(n, reci(n)))\n",
    "    except ZeroDivisionError as zde:\n",
    "        print(\"{}: {}\".format(type(zde).__name__, zde))\n",
    "    except TypeError as te:\n",
    "        print(\"{}: {}\".format(type(te).__name__, te))"
   ]
  }
 ],
 "metadata": {
  "kernelspec": {
   "display_name": "Python 3",
   "language": "python",
   "name": "python3"
  },
  "language_info": {
   "codemirror_mode": {
    "name": "ipython",
    "version": 3
   },
   "file_extension": ".py",
   "mimetype": "text/x-python",
   "name": "python",
   "nbconvert_exporter": "python",
   "pygments_lexer": "ipython3",
   "version": "3.5.1"
  }
 },
 "nbformat": 4,
 "nbformat_minor": 2
}
