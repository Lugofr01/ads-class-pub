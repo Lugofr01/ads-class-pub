{
 "cells": [
  {
   "cell_type": "markdown",
   "metadata": {},
   "source": [
    "# Python Basics\n",
    "\n",
    "## Topics\n",
    " - Formatted output\n",
    " - Data types\n",
    " - Conditions\n",
    " - Loops\n",
    " - Collections\n",
    " - File I/O\n",
    " - Functions\n",
    " - Exceptions\n",
    "\n",
    "Lists, tuples, sets, and dictionaries are Python collection data types. They offer different options when it comes to keeping data together. Lists are (arguably) the most versatile and the easiest to grasp (think arrays in other languages). Dictionaries are usually the most efficient.\n",
    "\n",
    "## References\n",
    " - Comprehensive Python review: [Tiny-Python-3.6-Notebook](https://github.com/mattharrison/Tiny-Python-3.6-Notebook/blob/master/python.rst)\n",
    " - Using formatted output: [PyFormat: Using % and .format() for great good!](https://pyformat.info/)\n",
    " - Python data types: [4. Built-in Types — Python 3.6.2 documentation](https://docs.python.org/3/library/stdtypes.html)\n",
    " - Python exception handling: [8. Errors and Exceptions — Python 3.6.2 documentation](https://docs.python.org/3/tutorial/errors.html)"
   ]
  },
  {
   "cell_type": "code",
   "execution_count": null,
   "metadata": {},
   "outputs": [],
   "source": [
    "import platform\n",
    "import sys\n",
    "print(sys.version)\n",
    "print('Python version is', platform.python_version())"
   ]
  },
  {
   "cell_type": "code",
   "execution_count": null,
   "metadata": {},
   "outputs": [],
   "source": [
    "# Basic output\n",
    "department = \"CS\"\n",
    "number = 160\n",
    "title = \"Algorithms and Data Structures\"\n",
    "print(title + ' (' + department + str(number) + ')')"
   ]
  },
  {
   "cell_type": "code",
   "execution_count": null,
   "metadata": {},
   "outputs": [],
   "source": [
    "# Formatted output\n",
    "print('{} ({}{})'.format(title, department, number))"
   ]
  },
  {
   "cell_type": "code",
   "execution_count": null,
   "metadata": {},
   "outputs": [],
   "source": [
    "# Basic operations\n",
    "a = 2\n",
    "b = 3\n",
    "c = 2.0\n",
    "d = 3.0\n",
    "e = 4.5\n",
    "print('{} + {} = {}'.format(a, b, a + b))\n",
    "print('{} - {} = {}'.format(a, b, a - b))\n",
    "print('{} * {} = {}'.format(a, b, a * b))\n",
    "print('{} / {} = {}'.format(a, b, a / b))\n",
    "print('{} // {} = {}'.format(a, b, a // b))\n",
    "print('{} ** {} = {}'.format(a, b, a ** b))\n",
    "print('int({}) = {}'.format(c, int(c)))\n",
    "print('{} is an integer: {}'.format(d, d.is_integer()))\n",
    "print('{} = {}'.format(e, e.as_integer_ratio()))"
   ]
  },
  {
   "cell_type": "code",
   "execution_count": null,
   "metadata": {},
   "outputs": [],
   "source": [
    "# Strings\n",
    "print('hello\\tthere')\n",
    "print(r'hello\\tthere')\n",
    "s = 'Hello World'\n",
    "print(s.count('o'))\n",
    "print(s.count('o', 4, 7))\n",
    "a = '42'\n",
    "print(a.isnumeric())\n",
    "phrase = '  This   is   a   sentence with lots of space  '\n",
    "print(phrase)\n",
    "print(phrase.lstrip())\n",
    "print(phrase.strip().split())\n",
    "print(phrase.split())"
   ]
  },
  {
   "cell_type": "code",
   "execution_count": null,
   "metadata": {},
   "outputs": [],
   "source": [
    "# List are ordered mutable sequences\n",
    "lst = [1, 2, 3]\n",
    "print(lst)"
   ]
  },
  {
   "cell_type": "code",
   "execution_count": null,
   "metadata": {},
   "outputs": [],
   "source": [
    "# Iterating the list\n",
    "for item in lst:\n",
    "    if item % 2:  # no need to say item % 2 == 1\n",
    "        print(item, end=' ')"
   ]
  },
  {
   "cell_type": "code",
   "execution_count": null,
   "metadata": {},
   "outputs": [],
   "source": [
    "# These are boolean False values in Python\n",
    "lst_false = [False, None, 0, '', [], (), {}]\n",
    "for item in lst_false:\n",
    "    print('bool({}) is {}'.format(item, bool(item)))\n"
   ]
  },
  {
   "cell_type": "code",
   "execution_count": null,
   "metadata": {},
   "outputs": [],
   "source": [
    "# (Not) changing the list items\n",
    "print(lst)\n",
    "for item in lst:\n",
    "    item = item + 1\n",
    "print(lst)"
   ]
  },
  {
   "cell_type": "code",
   "execution_count": null,
   "metadata": {},
   "outputs": [],
   "source": [
    "# Changing the list items\n",
    "print(lst)\n",
    "for i in range(len(lst)):\n",
    "    lst[i] = lst[i] + 1\n",
    "print(lst)"
   ]
  },
  {
   "cell_type": "code",
   "execution_count": null,
   "metadata": {},
   "outputs": [],
   "source": [
    "# Merging lists\n",
    "lst_1 = [1, 2, 3]\n",
    "lst_2 = [4, 5, 6]\n",
    "lst_3 = lst_1 + lst_2\n",
    "print(lst_3)\n",
    "lst_3 = lst_1.extend(lst_2)\n",
    "print(lst_1)\n",
    "lst_3 = lst_1.append(lst_2)\n",
    "print(lst_1)"
   ]
  },
  {
   "cell_type": "code",
   "execution_count": null,
   "metadata": {},
   "outputs": [],
   "source": [
    "# Copying lists\n",
    "lst_1 = [1, 2, 3]\n",
    "lst_2 = lst_1\n",
    "lst_2[0] = 160\n",
    "print(lst_1)"
   ]
  },
  {
   "cell_type": "code",
   "execution_count": null,
   "metadata": {},
   "outputs": [],
   "source": [
    "# Copying lists done right\n",
    "lst_1 = [1, 2, 3]\n",
    "lst_2 = lst_1[:]\n",
    "lst_2[0] = 160\n",
    "print(lst_1)"
   ]
  },
  {
   "cell_type": "code",
   "execution_count": null,
   "metadata": {},
   "outputs": [],
   "source": [
    "# Joining list elements\n",
    "import random\n",
    "lst = ['Today', 'is']\n",
    "days = ['Sunday', 'Monday', 'Tuesday', 'Wednesday', 'Thursday', 'Friday', 'Saturday']\n",
    "print(' '.join(lst) + ' ' + random.choice(days))"
   ]
  },
  {
   "cell_type": "code",
   "execution_count": null,
   "metadata": {},
   "outputs": [],
   "source": [
    "# Tuple\n",
    "tpl = (1, 2, 3)\n",
    "print(tpl)"
   ]
  },
  {
   "cell_type": "code",
   "execution_count": null,
   "metadata": {},
   "outputs": [],
   "source": [
    "# Tuples are immutable sequences\n",
    "print(tpl)\n",
    "for i in range(len(tpl)):\n",
    "    tpl[i] = tpl[i] + 1\n",
    "print(tpl)"
   ]
  },
  {
   "cell_type": "code",
   "execution_count": null,
   "metadata": {},
   "outputs": [],
   "source": [
    "# Named tuples\n",
    "student = ('Alice', 'Anderson', 2000, 3.5)\n",
    "print('%s %s was born in %d and has GPA of %.2f' %  student)\n",
    "print('{} {} was born in {} and has GPA of {:1.2f}'.format(student[0], student[1], student[2], student[3]))\n",
    "from collections import namedtuple\n",
    "Person = namedtuple('Person', 'first, last, year, gpa')\n",
    "student = Person('Alice', 'Anderson', 2000, 3.5)\n",
    "print('{} {} was born in {} and has GPA of {:1.2f}'.format(student.first, student.last, student.year, student.gpa))"
   ]
  },
  {
   "cell_type": "code",
   "execution_count": null,
   "metadata": {
    "collapsed": true
   },
   "outputs": [],
   "source": [
    "# Dictionary is a mutable mapping of keys to values\n",
    "exam = {'Alice': 90, 'Bob': None, 'Chuck': 80, 'Dave': 85, 'Eve': None}"
   ]
  },
  {
   "cell_type": "code",
   "execution_count": null,
   "metadata": {},
   "outputs": [],
   "source": [
    "# A key must be in the dictionary or else\n",
    "print(exam['Alice'])\n",
    "print(exam['James'])  # how to fix this line?"
   ]
  },
  {
   "cell_type": "code",
   "execution_count": null,
   "metadata": {},
   "outputs": [],
   "source": [
    "# Iterating through the dictionary\n",
    "for name, score in exam.items():\n",
    "    if score:\n",
    "        print('{} scored {}'.format(name, score))\n",
    "    else:\n",
    "        print('No result for student {}'.format(name))"
   ]
  },
  {
   "cell_type": "code",
   "execution_count": null,
   "metadata": {},
   "outputs": [],
   "source": [
    "# Iterating through the dictionary. Keys are used by default\n",
    "for key in exam:\n",
    "    print(exam[key])"
   ]
  },
  {
   "cell_type": "code",
   "execution_count": null,
   "metadata": {},
   "outputs": [],
   "source": [
    "# Iterating through the dictionary\n",
    "print(exam.items())\n",
    "print(exam.keys())\n",
    "print(exam.values())"
   ]
  },
  {
   "cell_type": "code",
   "execution_count": null,
   "metadata": {},
   "outputs": [],
   "source": [
    "for name, score in exam.items():\n",
    "    if score > 80:  # how to fix this line?\n",
    "        print('{} scored {}'.format(name, score))"
   ]
  },
  {
   "cell_type": "code",
   "execution_count": null,
   "metadata": {},
   "outputs": [],
   "source": [
    "# Set is a mutable unordered collection\n",
    "roster = set()  # roster = {} creates a dictionary\n",
    "roster.add('Alice')\n",
    "roster.add('Bob')\n",
    "print(roster)"
   ]
  },
  {
   "cell_type": "code",
   "execution_count": null,
   "metadata": {},
   "outputs": [],
   "source": [
    "# Sets contain unique elements\n",
    "roster.add('Alice')\n",
    "print(roster)"
   ]
  },
  {
   "cell_type": "code",
   "execution_count": null,
   "metadata": {},
   "outputs": [],
   "source": [
    "# Built-in functions\n",
    "test = [0, 1]\n",
    "print('any({}) = {}'.format(test, any(test)))\n",
    "print('all({}) = {}'.format(test, all(test)))\n",
    "days = set(['Sunday', 'Monday', 'Tuesday', 'Wednesday', 'Thursday', 'Friday', 'Saturday'])\n",
    "words = ['Aardvark', 'Bison', 'Cheetah', 'Duck', 'Elephant', 'Friday']\n",
    "print(days)\n",
    "print([w in words for w in days])\n",
    "print('any day in words: {}'.format(any(w in words for w in days)))"
   ]
  },
  {
   "cell_type": "code",
   "execution_count": null,
   "metadata": {
    "collapsed": true
   },
   "outputs": [],
   "source": [
    "# Functions\n",
    "def cond_1(lst):\n",
    "    lst[0] = 10\n",
    "    return sum(lst)\n",
    "def cond_2(lst):\n",
    "    lst[0] = 20\n",
    "    return sum(lst)"
   ]
  },
  {
   "cell_type": "code",
   "execution_count": null,
   "metadata": {},
   "outputs": [],
   "source": [
    "# Short-circuit evaluation\n",
    "lst_init = [1, 2, 3]\n",
    "print(lst_init)\n",
    "if cond_1(lst_init) > 20 and cond_2(lst_init) > 20:  # cond_2 is not evaluated\n",
    "    print('AND is True')\n",
    "print(lst_init)"
   ]
  },
  {
   "cell_type": "code",
   "execution_count": null,
   "metadata": {},
   "outputs": [],
   "source": [
    "# Short-circuit evaluation\n",
    "lst_init = [1, 2, 3]\n",
    "print(lst_init)\n",
    "if cond_1(lst_init) > 20 or cond_2(lst_init) > 20:  # cond_2 is evaluated\n",
    "    print('OR is True')\n",
    "print(lst_init)"
   ]
  },
  {
   "cell_type": "code",
   "execution_count": null,
   "metadata": {},
   "outputs": [],
   "source": [
    "# Remember the parentheses\n",
    "def simple_function():\n",
    "    return 42\n",
    "print(simple_function())\n",
    "print(simple_function() + 1)\n",
    "print(simple_function)"
   ]
  },
  {
   "cell_type": "code",
   "execution_count": null,
   "metadata": {},
   "outputs": [],
   "source": [
    "# A function may not return a value\n",
    "def simple_function_2():\n",
    "    print(42)\n",
    "simple_function_2()"
   ]
  },
  {
   "cell_type": "code",
   "execution_count": null,
   "metadata": {},
   "outputs": [],
   "source": [
    "print(simple_function_2())"
   ]
  },
  {
   "cell_type": "code",
   "execution_count": null,
   "metadata": {},
   "outputs": [],
   "source": [
    "print(simple_function_2)"
   ]
  },
  {
   "cell_type": "markdown",
   "metadata": {},
   "source": [
    "See [Python Tips](https://pythontips.com/2013/08/04/args-and-kwargs-in-python-explained/) for details on argv and kwargs."
   ]
  },
  {
   "cell_type": "code",
   "execution_count": null,
   "metadata": {
    "collapsed": true
   },
   "outputs": [],
   "source": [
    "# Function parameters\n",
    "def sum_lst(a, b, c):\n",
    "    return a + b + c\n",
    "\n",
    "def sum_lst_2(*argv):\n",
    "    return sum(argv)"
   ]
  },
  {
   "cell_type": "code",
   "execution_count": null,
   "metadata": {},
   "outputs": [],
   "source": [
    "print(sum_lst(1, 2, 3))\n",
    "#print(sum_lst(1, 2, 3, 4))"
   ]
  },
  {
   "cell_type": "code",
   "execution_count": null,
   "metadata": {},
   "outputs": [],
   "source": [
    "print(sum_lst_2())\n",
    "print(sum_lst_2(1, 2, 3))\n",
    "print(sum_lst_2(1, 2, 3, 4))"
   ]
  },
  {
   "cell_type": "code",
   "execution_count": null,
   "metadata": {},
   "outputs": [],
   "source": [
    "def mystery(mant, exp=2):\n",
    "    return mant ** exp\n",
    "print(mystery(2))\n",
    "print(mystery(2, 3))\n",
    "print(mystery(3))\n",
    "print(mystery(3, 3))"
   ]
  },
  {
   "cell_type": "code",
   "execution_count": null,
   "metadata": {},
   "outputs": [],
   "source": [
    "# File I/O\n",
    "with open('roster.txt', 'r') as input_file:\n",
    "    for line in input_file:\n",
    "        print(line)"
   ]
  },
  {
   "cell_type": "code",
   "execution_count": null,
   "metadata": {},
   "outputs": [],
   "source": [
    "# File I/O\n",
    "with open('roster.txt', 'r') as input_file:\n",
    "    for line in input_file:\n",
    "        print(line.strip().split(', ')[1] + ' ' + line.strip().split(', ')[0])"
   ]
  },
  {
   "cell_type": "code",
   "execution_count": null,
   "metadata": {},
   "outputs": [],
   "source": [
    "# (No) exceptions\n",
    "numbers = [3, 2, 1, 0]\n",
    "for n in numbers:\n",
    "    print(\"Reciprocal of {} is {}\".format(n, 1/n))"
   ]
  },
  {
   "cell_type": "code",
   "execution_count": null,
   "metadata": {},
   "outputs": [],
   "source": [
    "# Proper exception handling\n",
    "import sys\n",
    "numbers = [3, 2, 1, 0, 'hello']\n",
    "for n in numbers:\n",
    "    try:\n",
    "        print(\"Reciprocal of {} is {}\".format(n, 1/n))\n",
    "    except ZeroDivisionError as zde:\n",
    "        print(zde)\n",
    "    except:\n",
    "        print(\"Something bad just happened\")\n",
    "        print(\"Unexpected error:\", sys.exc_info()[0])\n",
    "    finally:\n",
    "        print(\"Number processed: {}\".format(n))"
   ]
  },
  {
   "cell_type": "code",
   "execution_count": null,
   "metadata": {},
   "outputs": [],
   "source": [
    "# Raising an exception\n",
    "def reci(n):\n",
    "    if n == 0:\n",
    "        raise ZeroDivisionError(\"Cannot calculate the reciprocal of 0\")\n",
    "    else:\n",
    "        return 1/n\n",
    "numbers = [3, 2, 1, 0, 'hello']\n",
    "for n in numbers:\n",
    "    try:\n",
    "        print(\"Reciprocal of {} is {}\".format(n, reci(n)))\n",
    "    except ZeroDivisionError as zde:\n",
    "        print(\"{}: {}\".format(type(zde).__name__, zde))\n",
    "    except TypeError as te:\n",
    "        print(\"{}: {}\".format(type(te).__name__, te))"
   ]
  }
 ],
 "metadata": {
  "kernelspec": {
   "display_name": "Python 3",
   "language": "python",
   "name": "python3"
  },
  "language_info": {
   "codemirror_mode": {
    "name": "ipython",
    "version": 3
   },
   "file_extension": ".py",
   "mimetype": "text/x-python",
   "name": "python",
   "nbconvert_exporter": "python",
   "pygments_lexer": "ipython3",
   "version": "3.5.1"
  }
 },
 "nbformat": 4,
 "nbformat_minor": 2
}
