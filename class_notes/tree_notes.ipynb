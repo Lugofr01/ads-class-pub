{
 "cells": [
  {
   "cell_type": "code",
   "execution_count": 1,
   "metadata": {
    "collapsed": true
   },
   "outputs": [],
   "source": [
    "\"\"\"Binary Tree implementation\"\"\"\n",
    "\n",
    "class BinaryTree:\n",
    "    \"\"\"Binary Tree implementation as nodes and references\"\"\"\n",
    "    def __init__(self, key):\n",
    "        self._key = key\n",
    "        self._child_left = None\n",
    "        self._child_right = None\n",
    "\n",
    "    def get_root_val(self):\n",
    "        \"\"\"Get root key value\"\"\"\n",
    "        return self._key\n",
    "\n",
    "    def set_root_val(self, new_key):\n",
    "        \"\"\"Set root key value\"\"\"\n",
    "        self._key = new_key\n",
    "\n",
    "    def get_child_left(self):\n",
    "        \"\"\"Get left child\"\"\"\n",
    "        return self._child_left\n",
    "\n",
    "    def set_child_left(self, new_child_left):\n",
    "        \"\"\"Set left child\"\"\"\n",
    "        self._child_left = new_child_left\n",
    "\n",
    "    def get_child_right(self):\n",
    "        \"\"\"Get right child\"\"\"\n",
    "        return self._child_right\n",
    "\n",
    "    def set_child_right(self, new_child_right):\n",
    "        \"\"\"Set right child\"\"\"\n",
    "        self._child_right = new_child_right\n",
    "\n",
    "    def is_leaf(self):\n",
    "        \"\"\"Check if a node is leaf\"\"\"\n",
    "        return (not self._child_left) and (not self._child_right)\n",
    "\n",
    "    def insert_left(self, new_node):\n",
    "        \"\"\"Insert left subtree\"\"\"\n",
    "        new_subtree = BinaryTree(new_node)\n",
    "        if self._child_left != None:\n",
    "            new_subtree.set_child_left(self._child_left)\n",
    "        self._child_left = new_subtree\n",
    "\n",
    "    def insert_right(self, new_node):\n",
    "        \"\"\"Insert right subtree\"\"\"\n",
    "        new_subtree = BinaryTree(new_node)\n",
    "        if self._child_right != None:\n",
    "            new_subtree.set_child_right(self._child_right)\n",
    "        self._child_right = new_subtree\n",
    "\n",
    "    def preorder(self):\n",
    "        \"\"\"Pre-order tree traversal\"\"\"\n",
    "        print(self._key)\n",
    "        if self._child_left:\n",
    "            self._child_left.preorder()\n",
    "        if self._child_right:\n",
    "            self.child_right.preorder()\n",
    "\n",
    "    def inorder(self):\n",
    "        \"\"\"In-order tree traversal\"\"\"\n",
    "        if self._child_left:\n",
    "            self._child_left.inorder()\n",
    "        print(self._key)\n",
    "        if self._child_right:\n",
    "            self._child_right.inorder()\n",
    "\n",
    "    def postorder(self):\n",
    "        \"\"\"Post-order tree traversal\"\"\"\n",
    "        if self._child_left:\n",
    "            self._child_left.postorder()\n",
    "        if self._child_right:\n",
    "            self._child_right.postorder()\n",
    "        print(self._key)\n",
    "\n",
    "    def height(self):\n",
    "        \"\"\"Height of a tree\"\"\"\n",
    "        \"\"\"THIS IMPLEMENTATION IS INCORRECT - OFF BY 1\"\"\"\n",
    "        if not self._key:\n",
    "            raise Exception(\"The tree is empty\")\n",
    "        if self._child_left:\n",
    "            height_left = self._child_left.height()\n",
    "        else:\n",
    "            height_left = 0\n",
    "\n",
    "        if self._child_right:\n",
    "            height_right = self._child_right.height()\n",
    "        else:\n",
    "            height_right = 0\n",
    "\n",
    "        return 1 + max(height_left, height_right)\n",
    "\n",
    "    def count_nodes(self):\n",
    "        \"\"\"Count nodes in a tree\"\"\"\n",
    "        if not self._key:\n",
    "            return 0\n",
    "        if self._child_left:\n",
    "            children_left = self._child_left.count_nodes()\n",
    "        else:\n",
    "            children_left = 0\n",
    "\n",
    "        if self._child_right:\n",
    "            children_right = self._child_right.count_nodes()\n",
    "        else:\n",
    "            children_right = 0\n",
    "        \n",
    "        return 1 + children_left + children_right\n"
   ]
  },
  {
   "cell_type": "code",
   "execution_count": 2,
   "metadata": {},
   "outputs": [
    {
     "name": "stdout",
     "output_type": "stream",
     "text": [
      "<__main__.BinaryTree object at 0x7fe1241e2828>\n",
      "b\n"
     ]
    }
   ],
   "source": [
    "tree = BinaryTree('a')\n",
    "tree.insert_left('b')\n",
    "print(tree.get_child_left())\n",
    "print(tree.get_child_left().get_root_val())"
   ]
  },
  {
   "cell_type": "code",
   "execution_count": 3,
   "metadata": {},
   "outputs": [
    {
     "name": "stdout",
     "output_type": "stream",
     "text": [
      "<__main__.BinaryTree object at 0x7fe12415fb70>\n",
      "c\n"
     ]
    }
   ],
   "source": [
    "tree.insert_right('c')\n",
    "print(tree.get_child_right())\n",
    "print(tree.get_child_right().get_root_val())"
   ]
  },
  {
   "cell_type": "code",
   "execution_count": 4,
   "metadata": {},
   "outputs": [
    {
     "name": "stdout",
     "output_type": "stream",
     "text": [
      "hello\n"
     ]
    }
   ],
   "source": [
    "tree.get_child_right().set_root_val('hello')\n",
    "print(tree.get_child_right().get_root_val())"
   ]
  },
  {
   "cell_type": "code",
   "execution_count": 5,
   "metadata": {},
   "outputs": [
    {
     "name": "stdout",
     "output_type": "stream",
     "text": [
      "Getting to \"b\"\n",
      "b\n"
     ]
    }
   ],
   "source": [
    "tree.insert_left('d')\n",
    "print('Getting to \"b\"')\n",
    "print(tree.get_child_left().get_child_left().get_root_val())"
   ]
  },
  {
   "cell_type": "code",
   "execution_count": 6,
   "metadata": {},
   "outputs": [
    {
     "name": "stdout",
     "output_type": "stream",
     "text": [
      "Preorder traversal\n",
      "a\n",
      "d\n",
      "c\n",
      "b\n"
     ]
    }
   ],
   "source": [
    "tree = BinaryTree('a')\n",
    "tree.insert_left('b')\n",
    "tree.insert_left('c')\n",
    "tree.insert_left('d')\n",
    "print('Preorder traversal')\n",
    "tree.preorder()"
   ]
  },
  {
   "cell_type": "code",
   "execution_count": 7,
   "metadata": {},
   "outputs": [
    {
     "name": "stdout",
     "output_type": "stream",
     "text": [
      "Inorder traversal\n",
      "b\n",
      "c\n",
      "d\n",
      "a\n"
     ]
    }
   ],
   "source": [
    "print('Inorder traversal')\n",
    "tree.inorder()"
   ]
  },
  {
   "cell_type": "code",
   "execution_count": 8,
   "metadata": {},
   "outputs": [
    {
     "name": "stdout",
     "output_type": "stream",
     "text": [
      "Postorder traversal\n",
      "b\n",
      "c\n",
      "d\n",
      "a\n"
     ]
    }
   ],
   "source": [
    "print('Postorder traversal')\n",
    "tree.postorder()"
   ]
  },
  {
   "cell_type": "code",
   "execution_count": 9,
   "metadata": {},
   "outputs": [
    {
     "name": "stdout",
     "output_type": "stream",
     "text": [
      "Tree height\n",
      "4\n"
     ]
    }
   ],
   "source": [
    "print(\"Tree height\")\n",
    "print(tree.height())"
   ]
  },
  {
   "cell_type": "code",
   "execution_count": 10,
   "metadata": {},
   "outputs": [
    {
     "name": "stdout",
     "output_type": "stream",
     "text": [
      "1\n",
      "2\n",
      "2\n",
      "3\n",
      "4\n"
     ]
    }
   ],
   "source": [
    "test_height_tree = BinaryTree('a')\n",
    "print(test_height_tree.height())\n",
    "test_height_tree.insert_left('b')\n",
    "print(test_height_tree.height())\n",
    "test_height_tree.insert_right('c')\n",
    "print(test_height_tree.height())\n",
    "test_height_tree.get_child_right().insert_left('d')\n",
    "print(test_height_tree.height())\n",
    "test_height_tree.get_child_right().get_child_left().insert_left('e')\n",
    "print(test_height_tree.height())"
   ]
  },
  {
   "cell_type": "code",
   "execution_count": 11,
   "metadata": {},
   "outputs": [
    {
     "name": "stdout",
     "output_type": "stream",
     "text": [
      "There are 5 nodes in the tree\n"
     ]
    }
   ],
   "source": [
    "print('There are {} nodes in the tree'.format(test_height_tree.count_nodes()))"
   ]
  }
 ],
 "metadata": {
  "kernelspec": {
   "display_name": "Python 3",
   "language": "python",
   "name": "python3"
  },
  "language_info": {
   "codemirror_mode": {
    "name": "ipython",
    "version": 3
   },
   "file_extension": ".py",
   "mimetype": "text/x-python",
   "name": "python",
   "nbconvert_exporter": "python",
   "pygments_lexer": "ipython3",
   "version": "3.5.1"
  }
 },
 "nbformat": 4,
 "nbformat_minor": 2
}
