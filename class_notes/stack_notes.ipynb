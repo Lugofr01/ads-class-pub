{
 "cells": [
  {
   "cell_type": "markdown",
   "metadata": {},
   "source": [
    "# Stack ADT\n",
    " * Stack\n",
    " * push\n",
    " * pop\n",
    " * peek\n",
    " * size\n",
    " * is_empty"
   ]
  },
  {
   "cell_type": "code",
   "execution_count": 2,
   "metadata": {
    "collapsed": true
   },
   "outputs": [],
   "source": [
    "class Stack():\n",
    "    '''Stack as a Python list'''\n",
    "    def __init__(self):\n",
    "        self._items = []\n",
    "    \n",
    "    def push(self, new_item):\n",
    "        '''Add a new item'''\n",
    "        self._items.append(new_item)\n",
    "    \n",
    "    def peek(self):\n",
    "        '''Look at the top item'''\n",
    "        if len(self._items) > 0:\n",
    "            return self._items[-1]\n",
    "        else:\n",
    "            raise IndexError('The stack (list) is empty')\n",
    "    \n",
    "    def __len__(self):\n",
    "        '''Get stack size'''\n",
    "        return len(self._items)\n",
    "    \n",
    "    def size(self):\n",
    "        '''Get stack size'''\n",
    "        return len(self._items)\n",
    "    \n",
    "    def pop(self):\n",
    "        '''Remove the top item'''\n",
    "        if len(self._items) > 0:\n",
    "            return self._items.pop()\n",
    "        else:\n",
    "            raise IndexError('The stack (list) is empty')\n",
    "    \n",
    "    def is_empty(self):\n",
    "        '''Check if the stack is empty'''\n",
    "        return self._items == []"
   ]
  },
  {
   "cell_type": "code",
   "execution_count": 10,
   "metadata": {
    "collapsed": false
   },
   "outputs": [
    {
     "name": "stdout",
     "output_type": "stream",
     "text": [
      "160\n",
      "160\n",
      "Caught an error: The stack (dict) is empty\n",
      "Added 1000000 items to a stack in 0.5260622419999983 sec\n"
     ]
    }
   ],
   "source": [
    "import time\n",
    "s = Stack()\n",
    "s.push('CS')\n",
    "s.push(160)\n",
    "print(s.peek())\n",
    "print(s.pop())\n",
    "s.pop()\n",
    "try:\n",
    "    print(s.peek())\n",
    "except IndexError as ie:\n",
    "    print('Caught an error: {}'.format(ie))\n",
    "t = time.process_time()\n",
    "n = 1000000\n",
    "for i in range(n):\n",
    "    s.push(i)\n",
    "print(\"Added {} items to a stack in {} sec\".format(n, time.process_time() - t))"
   ]
  },
  {
   "cell_type": "code",
   "execution_count": 2,
   "metadata": {
    "collapsed": true
   },
   "outputs": [],
   "source": [
    "class Stack():\n",
    "    '''Stack as a Python dictionary'''\n",
    "    def __init__(self):\n",
    "        self._items = {}\n",
    "        self._top = 0\n",
    "    \n",
    "    def push(self, new_item):\n",
    "        '''Add a new item'''\n",
    "        self._top = self._top + 1\n",
    "        self._items[self._top] = new_item\n",
    "    \n",
    "    def peek(self):\n",
    "        '''Look at the top item'''\n",
    "        if len(self._items) > 0:\n",
    "            return self._items[self._top]\n",
    "        else:\n",
    "            raise IndexError('The stack (dict) is empty')\n",
    "    \n",
    "    def __len__(self):\n",
    "        '''Get stack size'''\n",
    "        return len(self._items)\n",
    "    \n",
    "    def size(self):\n",
    "        '''Get stack size'''\n",
    "        return len(self._items)\n",
    "    \n",
    "    def pop(self):\n",
    "        '''Remove the top item'''\n",
    "        if len(self._items) > 0:\n",
    "            result = self._items[self._top]\n",
    "            del self._items[self._top]\n",
    "            self._top = self._top - 1\n",
    "            return result\n",
    "        else:\n",
    "            raise IndexError('The stack (dict) is empty')\n",
    "    \n",
    "    def is_empty(self):\n",
    "        '''Check if the stack is empty'''\n",
    "        return self._items == {}"
   ]
  },
  {
   "cell_type": "code",
   "execution_count": 3,
   "metadata": {
    "collapsed": false
   },
   "outputs": [
    {
     "name": "stdout",
     "output_type": "stream",
     "text": [
      "160\n",
      "160\n",
      "Caught an error: The stack (dict) is empty\n",
      "Added 1000000 items to a stack in 0.70339102 sec\n"
     ]
    }
   ],
   "source": [
    "import time\n",
    "s = Stack()\n",
    "s.push('CS')\n",
    "s.push(160)\n",
    "print(s.peek())\n",
    "print(s.pop())\n",
    "s.pop()\n",
    "try:\n",
    "    print(s.peek())\n",
    "except IndexError as ie:\n",
    "    print('Caught an error: {}'.format(ie))\n",
    "t = time.process_time()\n",
    "n = 1000000\n",
    "for i in range(n):\n",
    "    s.push(i)\n",
    "print(\"Added {} items to a stack in {} sec\".format(n, time.process_time() - t))"
   ]
  },
  {
   "cell_type": "code",
   "execution_count": 14,
   "metadata": {
    "collapsed": false
   },
   "outputs": [
    {
     "name": "stdout",
     "output_type": "stream",
     "text": [
      "34\n"
     ]
    }
   ],
   "source": [
    "s = Stack()\n",
    "expr = \"4 5 6 * + =\"\n",
    "for token in expr.split():\n",
    "    if token == '=':\n",
    "        try:\n",
    "            result = s.pop()\n",
    "        except IndexError as ie:\n",
    "            print('Caught an error: {}'.format(ie))\n",
    "        if s.is_empty():\n",
    "            print(result)\n",
    "        else:\n",
    "            print(\"Too many operands in the expression\")\n",
    "    elif token == \"*\":\n",
    "        op1 = s.pop()\n",
    "        op2 = s.pop()\n",
    "        s.push(op2 * op1)\n",
    "    elif token == '+':\n",
    "        op1 = s.pop()\n",
    "        op2 = s.pop()\n",
    "        s.push(op2 + op1)\n",
    "    else:\n",
    "        s.push(int(token))\n"
   ]
  },
  {
   "cell_type": "code",
   "execution_count": 7,
   "metadata": {
    "collapsed": false
   },
   "outputs": [
    {
     "name": "stdout",
     "output_type": "stream",
     "text": [
      "olleH\n",
      "XOXOXO\n"
     ]
    }
   ],
   "source": [
    "sw = Stack()\n",
    "word = 'Hello'\n",
    "for c in word:\n",
    "    sw.push(c)\n",
    "word_rev = []\n",
    "while not sw.is_empty():\n",
    "    word_rev.append(sw.pop())\n",
    "ans = ''.join(word_rev)\n",
    "print(ans)\n",
    "\n",
    "\n",
    "if ans in ['alice', 'bob', 'charlie']:\n",
    "    print('Good name')\n",
    "else:\n",
    "    print('XOXOXO')"
   ]
  },
  {
   "cell_type": "code",
   "execution_count": null,
   "metadata": {
    "collapsed": true
   },
   "outputs": [],
   "source": []
  }
 ],
 "metadata": {
  "kernelspec": {
   "display_name": "Python 3",
   "language": "python",
   "name": "python3"
  },
  "language_info": {
   "codemirror_mode": {
    "name": "ipython",
    "version": 3
   },
   "file_extension": ".py",
   "mimetype": "text/x-python",
   "name": "python",
   "nbconvert_exporter": "python",
   "pygments_lexer": "ipython3",
   "version": "3.5.1"
  }
 },
 "nbformat": 4,
 "nbformat_minor": 2
}
