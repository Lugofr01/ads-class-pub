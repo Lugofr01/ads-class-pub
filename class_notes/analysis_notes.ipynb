{
 "cells": [
  {
   "cell_type": "markdown",
   "metadata": {},
   "source": [
    "# Algorithm Analysis #"
   ]
  },
  {
   "cell_type": "code",
   "execution_count": 12,
   "metadata": {
    "collapsed": true
   },
   "outputs": [],
   "source": [
    "%matplotlib inline\n",
    "import matplotlib.pyplot as plt\n",
    "import time\n",
    "import random\n",
    "#timelist = []\n",
    "#sizes = list(range(1000, 10000, 100))"
   ]
  },
  {
   "cell_type": "code",
   "execution_count": 16,
   "metadata": {
    "collapsed": false
   },
   "outputs": [
    {
     "name": "stdout",
     "output_type": "stream",
     "text": [
      "elapsed time is 0.0008111300000024357\n"
     ]
    }
   ],
   "source": [
    "sum = 0\n",
    "t = time.process_time()\n",
    "for i in range(1000):\n",
    "    sum = sum + 1\n",
    "for j in range(1000):\n",
    "    sum = sum + 1\n",
    "elapsed_time = time.process_time() - t\n",
    "print('elapsed time is {}'.format(elapsed_time))\n",
    "#plt.plot(sizes[:len(timelist)], timelist)"
   ]
  },
  {
   "cell_type": "code",
   "execution_count": 15,
   "metadata": {
    "collapsed": false
   },
   "outputs": [
    {
     "name": "stdout",
     "output_type": "stream",
     "text": [
      "elapsed time is 0.12662281700001188\n"
     ]
    }
   ],
   "source": [
    "sum = 0\n",
    "t = time.process_time()\n",
    "for i in range(1000):\n",
    "    for j in range(1000):\n",
    "        sum = sum + 1\n",
    "elapsed_time = time.process_time() - t\n",
    "print('elapsed time is {}'.format(elapsed_time))\n",
    "#plt.plot(sizes[:len(timelist)], timelist)"
   ]
  },
  {
   "cell_type": "code",
   "execution_count": 19,
   "metadata": {
    "collapsed": false
   },
   "outputs": [
    {
     "name": "stdout",
     "output_type": "stream",
     "text": [
      "elapsed time is 0.14170022000001836\n"
     ]
    }
   ],
   "source": [
    "sum = 0\n",
    "t = time.process_time()\n",
    "x = 1\n",
    "y = 2\n",
    "z = 3\n",
    "for i in range(1000000):\n",
    "    sum = sum + 1\n",
    "elapsed_time = time.process_time() - t\n",
    "print('elapsed time is {}'.format(elapsed_time))"
   ]
  },
  {
   "cell_type": "code",
   "execution_count": 20,
   "metadata": {
    "collapsed": false
   },
   "outputs": [
    {
     "name": "stdout",
     "output_type": "stream",
     "text": [
      "elapsed time is 0.13875273300004665\n"
     ]
    }
   ],
   "source": [
    "sum = 0\n",
    "t = time.process_time()\n",
    "x = 1\n",
    "for i in range(1000000):\n",
    "    sum = sum + 1\n",
    "elapsed_time = time.process_time() - t\n",
    "print('elapsed time is {}'.format(elapsed_time))"
   ]
  },
  {
   "cell_type": "code",
   "execution_count": null,
   "metadata": {
    "collapsed": true
   },
   "outputs": [],
   "source": []
  }
 ],
 "metadata": {
  "kernelspec": {
   "display_name": "Python 3",
   "language": "python",
   "name": "python3"
  },
  "language_info": {
   "codemirror_mode": {
    "name": "ipython",
    "version": 3
   },
   "file_extension": ".py",
   "mimetype": "text/x-python",
   "name": "python",
   "nbconvert_exporter": "python",
   "pygments_lexer": "ipython3",
   "version": "3.5.1"
  }
 },
 "nbformat": 4,
 "nbformat_minor": 2
}
