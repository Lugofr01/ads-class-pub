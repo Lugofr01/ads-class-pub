{
 "cells": [
  {
   "cell_type": "markdown",
   "metadata": {},
   "source": [
    "# Algorithm Analysis\n",
    "\n",
    "![Son of a Man](https://upload.wikimedia.org/wikipedia/en/e/e5/Magritte_TheSonOfMan.jpg)"
   ]
  },
  {
   "cell_type": "code",
   "execution_count": 1,
   "metadata": {
    "collapsed": true
   },
   "outputs": [],
   "source": [
    "from itertools import permutations\n",
    "\n",
    "def anagram_solution_brute(word1, word2):\n",
    "    word1_perms = [''.join(p) for p in permutations(word1)]\n",
    "    return word2 in word1_perms"
   ]
  },
  {
   "cell_type": "code",
   "execution_count": 2,
   "metadata": {
    "collapsed": true
   },
   "outputs": [],
   "source": [
    "def anagram_solution_checkoff(word1, word2):\n",
    "    if len(word1) != len(word2):\n",
    "        return False\n",
    "    \n",
    "    word2_lst = list(word2)\n",
    "\n",
    "    pos1 = 0\n",
    "    is_anagram = True\n",
    "\n",
    "    while pos1 < len(word1) and is_anagram:\n",
    "        pos2 = 0\n",
    "        found = False\n",
    "        while pos2 < len(word2_lst) and not found:\n",
    "            if word1[pos1] == word2_lst[pos2]:\n",
    "                found = True\n",
    "            else:\n",
    "                pos2 = pos2 + 1\n",
    "\n",
    "        if found:\n",
    "            word2_lst[pos2] = None\n",
    "        else:\n",
    "            is_anagram = False\n",
    "\n",
    "        pos1 = pos1 + 1\n",
    "\n",
    "    return is_anagram"
   ]
  },
  {
   "cell_type": "code",
   "execution_count": 3,
   "metadata": {
    "collapsed": true
   },
   "outputs": [],
   "source": [
    "def anagram_solution_sort_compare(word1, word2):\n",
    "    if len(word1) != len(word2):\n",
    "        return False\n",
    "\n",
    "    word1_lst = list(word1)\n",
    "    word2_lst = list(word2)\n",
    "\n",
    "    word1_lst.sort()\n",
    "    word2_lst.sort()\n",
    "\n",
    "    pos = 0\n",
    "    matches = True\n",
    "\n",
    "    while pos < len(word1) and matches:\n",
    "        if word1_lst[pos] == word2_lst[pos]:\n",
    "            pos = pos + 1\n",
    "        else:\n",
    "            return False\n",
    "\n",
    "    return matches"
   ]
  },
  {
   "cell_type": "code",
   "execution_count": 4,
   "metadata": {
    "collapsed": true
   },
   "outputs": [],
   "source": [
    "def anagram_solution_count_compare(word1, word2):\n",
    "    c1 = [0]*26\n",
    "    c2 = [0]*26\n",
    "\n",
    "    for i in range(len(word1)):\n",
    "        pos = ord(word1[i]) - ord('a')\n",
    "        c1[pos] = c1[pos] + 1\n",
    "\n",
    "    for i in range(len(word2)):\n",
    "        pos = ord(word2[i]) - ord('a')\n",
    "        c2[pos] = c2[pos] + 1\n",
    "\n",
    "    j = 0\n",
    "    is_anagram = True\n",
    "    while j<26 and is_anagram:\n",
    "        if c1[j]==c2[j]:\n",
    "            j = j + 1\n",
    "        else:\n",
    "            is_anagram = False\n",
    "\n",
    "    return is_anagram"
   ]
  },
  {
   "cell_type": "code",
   "execution_count": 5,
   "metadata": {
    "scrolled": false
   },
   "outputs": [
    {
     "name": "stdout",
     "output_type": "stream",
     "text": [
      "False\n",
      "True\n",
      "False\n",
      "False\n"
     ]
    }
   ],
   "source": [
    "print(anagram_solution_brute('hello','world'))\n",
    "print(anagram_solution_brute('abcd','dcba'))\n",
    "print(anagram_solution_brute('abcd','dcbaa'))\n",
    "print(anagram_solution_brute('abcd','dcbad'))"
   ]
  },
  {
   "cell_type": "code",
   "execution_count": 6,
   "metadata": {},
   "outputs": [
    {
     "name": "stdout",
     "output_type": "stream",
     "text": [
      "9.775161743164062e-06\n",
      "1.0013580322265625e-05\n",
      "8.821487426757812e-06\n",
      "1.049041748046875e-05\n",
      "2.5033950805664062e-05\n",
      "5.14984130859375e-05\n",
      "0.00027441978454589844\n",
      "0.002123594284057617\n",
      "0.016512632369995117\n",
      "0.1470353603363037\n",
      "1.531409502029419\n",
      "14.667315244674683\n"
     ]
    },
    {
     "data": {
      "image/png": "[encoded data removed]",
      "text/plain": [
       "<matplotlib.figure.Figure at 0x7f4e46470a20>"
      ]
     },
     "metadata": {},
     "output_type": "display_data"
    }
   ],
   "source": [
    "%matplotlib inline\n",
    "import matplotlib.pyplot as plt\n",
    "import random\n",
    "import string\n",
    "import time\n",
    "from itertools import permutations\n",
    "\n",
    "word = string.ascii_lowercase\n",
    "\n",
    "time_lst = []\n",
    "for i in range(len(word)):\n",
    "    start = time.time()\n",
    "    [''.join(p) for p in permutations(word[0:i])]\n",
    "    stop = time.time()\n",
    "    elapsed = stop - start\n",
    "    print(elapsed)\n",
    "    time_lst.append(elapsed)\n",
    "    plt.plot(time_lst)\n",
    "    if elapsed > 10:\n",
    "        break"
   ]
  },
  {
   "cell_type": "code",
   "execution_count": 7,
   "metadata": {
    "collapsed": true
   },
   "outputs": [],
   "source": [
    "%matplotlib inline\n",
    "import matplotlib.pyplot as plt\n",
    "import time\n",
    "import random\n",
    "from itertools import permutations\n",
    "\n",
    "def anagram_chart(solution_method, words1, words2):\n",
    "    word_len = []\n",
    "    time_lst = []\n",
    "    for i in range(len(words1)):\n",
    "        start = time.time()\n",
    "        solution_method(words1[i], words2[i])\n",
    "        stop = time.time()\n",
    "        elapsed = stop - start\n",
    "        time_lst.append(elapsed)\n",
    "        word_len.append(len(words1[i]))\n",
    "        plt.plot(word_len, time_lst)\n",
    "        if elapsed > 10:\n",
    "            break"
   ]
  },
  {
   "cell_type": "code",
   "execution_count": 8,
   "metadata": {
    "collapsed": true
   },
   "outputs": [],
   "source": [
    "word_lst_1 = ['robes', 'barely', 'pirates', 'nameless', 'auctioned', 'discounter', 'predictable', 'cameralistic', 'thysanopteran', 'protuberantial', 'nonuniversalist', 'thermonastically', 'basiparachromatin']\n",
    "word_lst_2 = ['sober', 'barley', 'parties', 'salesmen', 'education', 'introduces', 'bidpceleart', 'acclimatiser', 'parasyntheton', 'perturbational', 'involuntariness', 'hematocrystallin', 'marsipobranchiata']"
   ]
  },
  {
   "cell_type": "code",
   "execution_count": 9,
   "metadata": {},
   "outputs": [
    {
     "data": {
      "image/png": "[encoded data removed]",
      "text/plain": [
       "<matplotlib.figure.Figure at 0x7f4e46cc6940>"
      ]
     },
     "metadata": {},
     "output_type": "display_data"
    }
   ],
   "source": [
    "anagram_chart(anagram_solution_count_compare, word_lst_1, word_lst_2)"
   ]
  },
  {
   "cell_type": "code",
   "execution_count": 10,
   "metadata": {},
   "outputs": [
    {
     "data": {
      "image/png": "[encoded data removed]",
      "text/plain": [
       "<matplotlib.figure.Figure at 0x7f4df7e112e8>"
      ]
     },
     "metadata": {},
     "output_type": "display_data"
    }
   ],
   "source": [
    "anagram_chart(anagram_solution_sort_compare, word_lst_1, word_lst_2)"
   ]
  },
  {
   "cell_type": "code",
   "execution_count": 11,
   "metadata": {},
   "outputs": [
    {
     "data": {
      "image/png": "[encoded data removed]",
      "text/plain": [
       "<matplotlib.figure.Figure at 0x7f4df7d52ac8>"
      ]
     },
     "metadata": {},
     "output_type": "display_data"
    }
   ],
   "source": [
    "anagram_chart(anagram_solution_checkoff, word_lst_1, word_lst_2)"
   ]
  },
  {
   "cell_type": "code",
   "execution_count": 12,
   "metadata": {},
   "outputs": [
    {
     "data": {
      "image/png": "[encoded data removed]",
      "text/plain": [
       "<matplotlib.figure.Figure at 0x7f4df7c62630>"
      ]
     },
     "metadata": {},
     "output_type": "display_data"
    }
   ],
   "source": [
    "anagram_chart(anagram_solution_brute, word_lst_1, word_lst_2)"
   ]
  },
  {
   "cell_type": "code",
   "execution_count": 13,
   "metadata": {},
   "outputs": [
    {
     "name": "stdout",
     "output_type": "stream",
     "text": [
      "elapsed time is 0.001104397999995399\n"
     ]
    }
   ],
   "source": [
    "sum = 0\n",
    "t = time.process_time()\n",
    "for i in range(1000):\n",
    "    sum = sum + 1\n",
    "for j in range(1000):\n",
    "    sum = sum + 1\n",
    "elapsed_time = time.process_time() - t\n",
    "print('elapsed time is {}'.format(elapsed_time))"
   ]
  },
  {
   "cell_type": "code",
   "execution_count": 14,
   "metadata": {},
   "outputs": [
    {
     "name": "stdout",
     "output_type": "stream",
     "text": [
      "elapsed time is 0.19007901099999458\n"
     ]
    }
   ],
   "source": [
    "sum = 0\n",
    "t = time.process_time()\n",
    "for i in range(1000):\n",
    "    for j in range(1000):\n",
    "        sum = sum + 1\n",
    "elapsed_time = time.process_time() - t\n",
    "print('elapsed time is {}'.format(elapsed_time))"
   ]
  },
  {
   "cell_type": "code",
   "execution_count": 15,
   "metadata": {},
   "outputs": [
    {
     "name": "stdout",
     "output_type": "stream",
     "text": [
      "elapsed time is 0.15549667999999883\n"
     ]
    }
   ],
   "source": [
    "sum = 0\n",
    "t = time.process_time()\n",
    "x = 1\n",
    "y = 2\n",
    "z = 3\n",
    "for i in range(1000000):\n",
    "    sum = sum + 1\n",
    "elapsed_time = time.process_time() - t\n",
    "print('elapsed time is {}'.format(elapsed_time))"
   ]
  },
  {
   "cell_type": "code",
   "execution_count": 16,
   "metadata": {},
   "outputs": [
    {
     "name": "stdout",
     "output_type": "stream",
     "text": [
      "elapsed time is 0.1436190960000019\n"
     ]
    }
   ],
   "source": [
    "sum = 0\n",
    "t = time.process_time()\n",
    "x = 1\n",
    "for i in range(1000000):\n",
    "    sum = sum + 1\n",
    "elapsed_time = time.process_time() - t\n",
    "print('elapsed time is {}'.format(elapsed_time))"
   ]
  },
  {
   "cell_type": "markdown",
   "metadata": {
    "collapsed": true
   },
   "source": [
    "# NP-Complete\n",
    "![General solutions get you a 50% tip.](https://imgs.xkcd.com/comics/np_complete.png \"General solutions get you a 50% tip.\")\n",
    "[NP-Complete](https://xkcd.com/287/)"
   ]
  }
 ],
 "metadata": {
  "kernelspec": {
   "display_name": "Python 3",
   "language": "python",
   "name": "python3"
  },
  "language_info": {
   "codemirror_mode": {
    "name": "ipython",
    "version": 3
   },
   "file_extension": ".py",
   "mimetype": "text/x-python",
   "name": "python",
   "nbconvert_exporter": "python",
   "pygments_lexer": "ipython3",
   "version": "3.5.1"
  }
 },
 "nbformat": 4,
 "nbformat_minor": 2
}
