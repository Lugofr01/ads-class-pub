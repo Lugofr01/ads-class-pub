{
 "cells": [
  {
   "cell_type": "markdown",
   "metadata": {},
   "source": [
    "# Object-oriented programming #\n",
    "*In-class code examples*"
   ]
  },
  {
   "cell_type": "markdown",
   "metadata": {},
   "source": [
    "## Simple Classes ##\n",
    "Use constructor method __init__ to create a new instance of a class and initialize its data members.\n",
    "\n",
    "Use \"magic\" functions __str__, __eq__, etc to specify common behavior.\n",
    "\n",
    "Use self to access the object itself.\n",
    "\n",
    "Start a name with a single underscore _ to signify a \"private\" (not really) member.\n",
    "\n",
    "If necessary, end method parameters with a single underscore to avoid confusion."
   ]
  },
  {
   "cell_type": "code",
   "execution_count": 1,
   "metadata": {
    "collapsed": true
   },
   "outputs": [],
   "source": [
    "#!/usr/bin/env python3\n",
    "#encoding: UTF-8\n",
    "\n",
    "class Student:\n",
    "    def __init__(self, initial_name):\n",
    "        self._name = initial_name\n",
    "        \n",
    "    def get_name(self):\n",
    "        return self._name\n",
    "    \n",
    "    def set_name(self, new_name):\n",
    "        self._name = new_name\n",
    "    \n",
    "    def __str__(self):\n",
    "        return 'Hi, I\\'m ' + self._name + '!'\n",
    "    \n",
    "    def __eq__(self, other):\n",
    "        return self._name == other.get_name()\n",
    "        \n",
    "    def __add__(self, other):\n",
    "        if isinstance(other, Student):\n",
    "            return Student(self._name + ' ' + other.get_name())\n",
    "        else:\n",
    "            print('hey! don\\'t do this!')\n"
   ]
  },
  {
   "cell_type": "markdown",
   "metadata": {},
   "source": [
    "### Using objects ###\n",
    "Use getters and setters to access object data members."
   ]
  },
  {
   "cell_type": "code",
   "execution_count": 2,
   "metadata": {},
   "outputs": [
    {
     "name": "stdout",
     "output_type": "stream",
     "text": [
      "Alice\n",
      "Charles\n",
      "Hi, I'm Alice! 140458923593680\n",
      "Hi, I'm Charles! 140458923573432\n",
      "something else\n",
      "Hi, I'm Alice Charles!\n",
      "Hi, I'm Alice Charles Doug!\n"
     ]
    }
   ],
   "source": [
    "s1 = Student('Alice')\n",
    "print(s1.get_name())\n",
    "s2 = Student('Charles')\n",
    "print(s2.get_name())\n",
    "print(s1, id(s1))\n",
    "print(s2, id(s2))\n",
    "if s1 == s2:\n",
    "    print('they are equal')\n",
    "else:\n",
    "    print('something else')\n",
    "    \n",
    "print(s1 + s2)\n",
    "s3 = Student('Doug')\n",
    "print(s1 + s2 + s3)"
   ]
  },
  {
   "cell_type": "markdown",
   "metadata": {},
   "source": [
    "### Very simple class ###\n",
    "Very simple constructor demo."
   ]
  },
  {
   "cell_type": "code",
   "execution_count": 3,
   "metadata": {
    "collapsed": true
   },
   "outputs": [],
   "source": [
    "class Wall:\n",
    "    def __init__(self):\n",
    "        self.color = 'white'"
   ]
  },
  {
   "cell_type": "code",
   "execution_count": 4,
   "metadata": {},
   "outputs": [
    {
     "name": "stdout",
     "output_type": "stream",
     "text": [
      "white\n"
     ]
    }
   ],
   "source": [
    "my_front_wall = Wall()\n",
    "print(my_front_wall.color)"
   ]
  },
  {
   "cell_type": "markdown",
   "metadata": {},
   "source": [
    "# Class Wolf\n",
    "\n",
    "Data members:\n",
    " * color\n",
    " * gender\n",
    " * height\n",
    " * age\n",
    "\n",
    "Methods\n",
    " * grow(delta_height): grow by *delta_height*\n",
    " * bath(): change color to 'white'\n",
    " * howl(): print somethind scary"
   ]
  },
  {
   "cell_type": "code",
   "execution_count": 5,
   "metadata": {
    "collapsed": true
   },
   "outputs": [],
   "source": [
    "class Wolf:\n",
    "    def __init__(self, gender, color='white', height=1):\n",
    "        self._gender = gender\n",
    "        self._color = color\n",
    "        self._height = height\n",
    "        self._tails = 1\n",
    "    \n",
    "    @property\n",
    "    def color(self):\n",
    "        return self._color\n",
    "    \n",
    "    @color.setter\n",
    "    def color(self, new_color):\n",
    "        self._color = new_color\n",
    "\n",
    "    def get_tails(self):\n",
    "        return self._tails\n",
    "    \n",
    "    def set_tails(self, tails):\n",
    "        self._tails = tails\n",
    "\n",
    "    tails = property(get_tails, set_tails)\n",
    "    \n",
    "    def grow_a_tail(self):\n",
    "        self._tails = self._tails + 1\n",
    "        \n",
    "    def lose_a_tail(self):\n",
    "        if self._tails > 0:\n",
    "            self._tails = self._tails - 1\n",
    "    \n",
    "    def grow(self, delta_height=1):\n",
    "        self._height = self._height + delta_height\n",
    "    \n",
    "    def shrink(self, delta_height):\n",
    "        if self._height > delta_height:\n",
    "            self._height = self._height - delta_height    \n",
    "    \n",
    "    def __str__(self):\n",
    "        return 'This is a {} feet tall {} {} wolf with {} tail(s)'.format(self._height, self._color, self._gender, self._tails)"
   ]
  },
  {
   "cell_type": "code",
   "execution_count": 6,
   "metadata": {},
   "outputs": [
    {
     "name": "stdout",
     "output_type": "stream",
     "text": [
      "This is a 1 feet tall white female wolf with 1 tail(s)\n",
      "This is a 1 feet tall red female wolf with 1 tail(s)\n",
      "This is a 1 feet tall red female wolf with 3 tail(s)\n",
      "This is a 1 feet tall red female wolf with 4 tail(s)\n",
      "This is a 6 feet tall red female wolf with 4 tail(s)\n",
      "This is a 6 feet tall red female wolf with 4 tail(s)\n",
      "--------------\n",
      "This is a 5 feet tall brown male wolf with 1 tail(s)\n",
      "This is a 5 feet tall brown male wolf with 0 tail(s)\n",
      "This is a 5 feet tall brown male wolf with 0 tail(s)\n",
      "This is a 5 feet tall brown male wolf with 0 tail(s)\n",
      "This is a 6 feet tall brown male wolf with 0 tail(s)\n",
      "This is a 16 feet tall brown male wolf with 0 tail(s)\n",
      "This is a 16 feet tall brown unknown wolf with 0 tail(s)\n"
     ]
    }
   ],
   "source": [
    "w1 = Wolf('female')\n",
    "print(w1)\n",
    "w1.color = 'red'\n",
    "print(w1)\n",
    "w1.tails = 3\n",
    "print(w1)\n",
    "w1.grow_a_tail()\n",
    "print(w1)\n",
    "w1.grow(5)\n",
    "print(w1)\n",
    "w1.shrink(10)\n",
    "print(w1)\n",
    "print('--------------')\n",
    "w2 = Wolf('male', 'brown', 5)\n",
    "print(w2)\n",
    "w2.lose_a_tail()\n",
    "print(w2)\n",
    "w2.lose_a_tail()\n",
    "print(w2)\n",
    "w2.lose_a_tail()\n",
    "print(w2)\n",
    "w2.grow()\n",
    "print(w2)\n",
    "w2.grow(10)\n",
    "print(w2)\n",
    "w2._gender = 'unknown'\n",
    "print(w2)"
   ]
  },
  {
   "cell_type": "markdown",
   "metadata": {},
   "source": [
    "## Class with properties ##\n",
    "Use @property decorator or property function to provide an interface to class members."
   ]
  },
  {
   "cell_type": "code",
   "execution_count": 7,
   "metadata": {
    "collapsed": true
   },
   "outputs": [],
   "source": [
    "class Course:\n",
    "    def __init__(self, init_id, init_dept, init_number, init_semester, init_year, init_section, init_title):\n",
    "        self._id = init_id\n",
    "        self._dept = init_dept\n",
    "        self._number = init_number\n",
    "        self._semester = init_semester\n",
    "        self._year = init_year\n",
    "        self._section = init_section\n",
    "        self._title = init_title\n",
    "    \n",
    "    @property\n",
    "    def semester(self):\n",
    "        return self._semester\n",
    "\n",
    "    @semester.setter\n",
    "    def semester(self, new_value):\n",
    "        if new_value in ['FA', 'JT', 'SP', 'SU']:\n",
    "            self._semester = new_value\n",
    "        else:\n",
    "            raise ValueError('bad value of the semester. Use a valid value')\n",
    "\n",
    "    def __str__(self):\n",
    "        return self._dept + str(self._number)"
   ]
  },
  {
   "cell_type": "code",
   "execution_count": 8,
   "metadata": {},
   "outputs": [
    {
     "name": "stdout",
     "output_type": "stream",
     "text": [
      "FA\n"
     ]
    },
    {
     "ename": "ValueError",
     "evalue": "bad value of the semester. Use a valid value",
     "output_type": "error",
     "traceback": [
      "\u001b[0;31m---------------------------------------------------------------------------\u001b[0m",
      "\u001b[0;31mValueError\u001b[0m                                Traceback (most recent call last)",
      "\u001b[0;32m<ipython-input-8-f14dcaacb8b0>\u001b[0m in \u001b[0;36m<module>\u001b[0;34m()\u001b[0m\n\u001b[1;32m      1\u001b[0m \u001b[0mmy_course\u001b[0m \u001b[0;34m=\u001b[0m \u001b[0mCourse\u001b[0m\u001b[0;34m(\u001b[0m\u001b[0;36m123\u001b[0m\u001b[0;34m,\u001b[0m \u001b[0;34m'CS'\u001b[0m\u001b[0;34m,\u001b[0m \u001b[0;36m160\u001b[0m\u001b[0;34m,\u001b[0m \u001b[0;34m'FA'\u001b[0m\u001b[0;34m,\u001b[0m \u001b[0;36m2017\u001b[0m\u001b[0;34m,\u001b[0m \u001b[0;34m'A'\u001b[0m\u001b[0;34m,\u001b[0m \u001b[0;34m'ADS'\u001b[0m\u001b[0;34m)\u001b[0m\u001b[0;34m\u001b[0m\u001b[0m\n\u001b[1;32m      2\u001b[0m \u001b[0mprint\u001b[0m\u001b[0;34m(\u001b[0m\u001b[0mmy_course\u001b[0m\u001b[0;34m.\u001b[0m\u001b[0msemester\u001b[0m\u001b[0;34m)\u001b[0m\u001b[0;34m\u001b[0m\u001b[0m\n\u001b[0;32m----> 3\u001b[0;31m \u001b[0mmy_course\u001b[0m\u001b[0;34m.\u001b[0m\u001b[0msemester\u001b[0m \u001b[0;34m=\u001b[0m \u001b[0;34m'Friday'\u001b[0m\u001b[0;34m\u001b[0m\u001b[0m\n\u001b[0m\u001b[1;32m      4\u001b[0m \u001b[0mprint\u001b[0m\u001b[0;34m(\u001b[0m\u001b[0mmy_course\u001b[0m\u001b[0;34m.\u001b[0m\u001b[0msemester\u001b[0m\u001b[0;34m)\u001b[0m\u001b[0;34m\u001b[0m\u001b[0m\n",
      "\u001b[0;32m<ipython-input-7-087b9d07dacf>\u001b[0m in \u001b[0;36msemester\u001b[0;34m(self, new_value)\u001b[0m\n\u001b[1;32m     18\u001b[0m             \u001b[0mself\u001b[0m\u001b[0;34m.\u001b[0m\u001b[0m_semester\u001b[0m \u001b[0;34m=\u001b[0m \u001b[0mnew_value\u001b[0m\u001b[0;34m\u001b[0m\u001b[0m\n\u001b[1;32m     19\u001b[0m         \u001b[0;32melse\u001b[0m\u001b[0;34m:\u001b[0m\u001b[0;34m\u001b[0m\u001b[0m\n\u001b[0;32m---> 20\u001b[0;31m             \u001b[0;32mraise\u001b[0m \u001b[0mValueError\u001b[0m\u001b[0;34m(\u001b[0m\u001b[0;34m'bad value of the semester. Use a valid value'\u001b[0m\u001b[0;34m)\u001b[0m\u001b[0;34m\u001b[0m\u001b[0m\n\u001b[0m\u001b[1;32m     21\u001b[0m \u001b[0;34m\u001b[0m\u001b[0m\n\u001b[1;32m     22\u001b[0m     \u001b[0;32mdef\u001b[0m \u001b[0m__str__\u001b[0m\u001b[0;34m(\u001b[0m\u001b[0mself\u001b[0m\u001b[0;34m)\u001b[0m\u001b[0;34m:\u001b[0m\u001b[0;34m\u001b[0m\u001b[0m\n",
      "\u001b[0;31mValueError\u001b[0m: bad value of the semester. Use a valid value"
     ]
    }
   ],
   "source": [
    "my_course = Course(123, 'CS', 160, 'FA', 2017, 'A', 'ADS')\n",
    "print(my_course.semester)\n",
    "my_course.semester = 'Friday'\n",
    "print(my_course.semester)"
   ]
  },
  {
   "cell_type": "markdown",
   "metadata": {},
   "source": [
    "## Using exceptions ##\n",
    "try..except..finally"
   ]
  },
  {
   "cell_type": "code",
   "execution_count": 9,
   "metadata": {},
   "outputs": [
    {
     "name": "stdout",
     "output_type": "stream",
     "text": [
      "hello\n",
      "You just entered something odd\n",
      "You entered  hello\n",
      "Continuing...\n"
     ]
    }
   ],
   "source": [
    "a = input()\n",
    "try:\n",
    "    print(1 / int(a))\n",
    "except ZeroDivisionError as zde:\n",
    "    print('You just tried to divide by 0')\n",
    "except ValueError as ve:\n",
    "    print('You just entered something odd')\n",
    "finally:\n",
    "    print('You entered ', a)\n",
    "print('Continuing...')"
   ]
  },
  {
   "cell_type": "code",
   "execution_count": 10,
   "metadata": {},
   "outputs": [
    {
     "name": "stdout",
     "output_type": "stream",
     "text": [
      "'Course' object has no attribute 'get_semester'\n"
     ]
    }
   ],
   "source": [
    "try:\n",
    "    print(my_course.get_semester())\n",
    "except AttributeError as attribute_err:\n",
    "    print(attribute_err)"
   ]
  },
  {
   "cell_type": "code",
   "execution_count": 11,
   "metadata": {},
   "outputs": [
    {
     "name": "stdout",
     "output_type": "stream",
     "text": [
      "Something bad happened\n"
     ]
    }
   ],
   "source": [
    "try:\n",
    "    my_course.semester = 'Friday'\n",
    "except AttributeError as attribute_err:\n",
    "    print(attribute_err)\n",
    "except:\n",
    "    print('Something bad happened')"
   ]
  },
  {
   "cell_type": "code",
   "execution_count": 12,
   "metadata": {},
   "outputs": [
    {
     "name": "stdout",
     "output_type": "stream",
     "text": [
      "FA\n"
     ]
    }
   ],
   "source": [
    "print(my_course.semester)"
   ]
  },
  {
   "cell_type": "code",
   "execution_count": 13,
   "metadata": {},
   "outputs": [
    {
     "name": "stdout",
     "output_type": "stream",
     "text": [
      "FA\n",
      "there was a problem\n",
      "bad value of the semester. Use a valid value\n",
      "FA\n"
     ]
    }
   ],
   "source": [
    "print(my_course.semester)\n",
    "try:\n",
    "    my_course.semester = 'Hello'\n",
    "except ValueError as value_err:\n",
    "    print('there was a problem')\n",
    "    print(value_err)\n",
    "finally:\n",
    "    print(my_course.semester)"
   ]
  },
  {
   "cell_type": "code",
   "execution_count": 14,
   "metadata": {},
   "outputs": [
    {
     "name": "stdout",
     "output_type": "stream",
     "text": [
      "1/1 = 1.0\n",
      "division by zero\n",
      "division by zero\n",
      "1/1 = 1.0\n",
      "division by zero\n",
      "The program didn't crash!\n"
     ]
    }
   ],
   "source": [
    "import random\n",
    "for _ in range(5):\n",
    "    x = random.randint(0, 1)\n",
    "    try:\n",
    "        print(\"1/{} = {}\".format(x, 1/int(x)))\n",
    "    except ZeroDivisionError as zerodiv_err:\n",
    "        print(zerodiv_err)\n",
    "print(\"The program didn't crash!\")"
   ]
  },
  {
   "cell_type": "markdown",
   "metadata": {
    "collapsed": true
   },
   "source": [
    "## Inheritance ##\n",
    "Classes can inherit members from other class(es)"
   ]
  },
  {
   "cell_type": "code",
   "execution_count": 15,
   "metadata": {},
   "outputs": [],
   "source": [
    "import random\n",
    "\n",
    "class Fruit:\n",
    "    def __init__(self, color, price=0.99):\n",
    "        self._color = color\n",
    "        self._price = price\n",
    "    \n",
    "    @property\n",
    "    def color(self):\n",
    "        return self._color\n",
    "\n",
    "    def make_food(self):\n",
    "        raise NotImplementedError\n",
    "    \n",
    "    def __str__(self):\n",
    "        return 'color: {}, cost: {}'.format(self._color, self._price)\n",
    "\n",
    "class Apple(Fruit):\n",
    "    def __init__(self, variety, color, price=0.50):\n",
    "        super().__init__(color, price)\n",
    "        self._variety = variety\n",
    "    \n",
    "    def make_food(self):\n",
    "        self._make_a_pie()\n",
    "    \n",
    "    def _make_a_pie(self):\n",
    "        return \"Tasty pie\"\n",
    "    \n",
    "    def __add__(self, other):\n",
    "        if issubclass(type(other), Fruit):\n",
    "            return Apple(self._variety, self._color+other.color)\n",
    "        else:\n",
    "            raise TypeError('can only add fruits')\n",
    "    \n",
    "    def __str__(self):\n",
    "        return '{} apple, {}'.format(self._variety, super().__str__())\n",
    "\n",
    "class Orange(Fruit):\n",
    "    def __init__(self, origin, color, price=0.60):\n",
    "        super().__init__(color, price)\n",
    "        self._origin = origin\n",
    "\n",
    "    def make_food(self):\n",
    "        self._make_juice()\n",
    "    \n",
    "    def _make_juice(self):\n",
    "        return \"Tasty juice\"\n",
    "    \n",
    "    def __str__(self):\n",
    "        return 'Orange from {}, {}'.format(self._origin, super().__str__())"
   ]
  },
  {
   "cell_type": "markdown",
   "metadata": {},
   "source": [
    "### Working with a hierarchy of classes ###"
   ]
  },
  {
   "cell_type": "code",
   "execution_count": 16,
   "metadata": {},
   "outputs": [
    {
     "name": "stdout",
     "output_type": "stream",
     "text": [
      "Honey Crisp apple, color: red, cost: 0.5\n",
      "None\n",
      "Orange from Iowa, color: orange, cost: 1.0\n",
      "None\n",
      "Honey Crisp apple, color: redorange, cost: 0.5\n"
     ]
    }
   ],
   "source": [
    "a = Apple('Honey Crisp', 'red', .50)\n",
    "print(a)\n",
    "print(a.make_food())\n",
    "o = Orange('Iowa', 'orange', 1.00)\n",
    "print(o)\n",
    "print(o.make_food())\n",
    "print(a + o)"
   ]
  },
  {
   "cell_type": "markdown",
   "metadata": {},
   "source": [
    "### Using isinstance() and issubclass() ###"
   ]
  },
  {
   "cell_type": "code",
   "execution_count": 17,
   "metadata": {},
   "outputs": [
    {
     "name": "stdout",
     "output_type": "stream",
     "text": [
      "<class '__main__.Apple'>\n",
      "True\n",
      "True\n"
     ]
    }
   ],
   "source": [
    "print(type(a))\n",
    "print(isinstance(a, Apple))\n",
    "print(issubclass(type(a), Fruit))"
   ]
  }
 ],
 "metadata": {
  "kernelspec": {
   "display_name": "Python 3",
   "language": "python",
   "name": "python3"
  },
  "language_info": {
   "codemirror_mode": {
    "name": "ipython",
    "version": 3
   },
   "file_extension": ".py",
   "mimetype": "text/x-python",
   "name": "python",
   "nbconvert_exporter": "python",
   "pygments_lexer": "ipython3",
   "version": "3.5.1"
  }
 },
 "nbformat": 4,
 "nbformat_minor": 1
}
