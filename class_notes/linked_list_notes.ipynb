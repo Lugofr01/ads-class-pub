{
 "cells": [
  {
   "cell_type": "code",
   "execution_count": 25,
   "metadata": {},
   "outputs": [],
   "source": [
    "moods = ['Happy', 'Grumpy', 'Confused', 'Angry', 'Sleepy', 'Hungry', 'Playful']\n",
    "class Cat:\n",
    "    def __init__(self, current_mood=None):\n",
    "        self._mood = current_mood\n",
    "    def __str__(self):\n",
    "        return 'The cat is ' + self._mood"
   ]
  },
  {
   "cell_type": "code",
   "execution_count": 26,
   "metadata": {},
   "outputs": [],
   "source": [
    "class Node:\n",
    "    def __init__(self, init_value=None, init_next=None):\n",
    "        self._data = init_value\n",
    "        self._next = init_next\n",
    "    \n",
    "    def get_data(self):\n",
    "        return self._data\n",
    "\n",
    "    def set_data(self, new_value):\n",
    "        self._data = new_value\n",
    "\n",
    "    def get_next(self):\n",
    "        return self._next\n",
    "\n",
    "    def set_next(self, new_value):\n",
    "        self._next = new_value\n",
    "    \n",
    "    data = property(get_data, set_data)\n",
    "    next = property(get_next, set_next)\n",
    "    \n",
    "    def __str__(self):\n",
    "        return str(self._data)"
   ]
  },
  {
   "cell_type": "code",
   "execution_count": 27,
   "metadata": {},
   "outputs": [
    {
     "name": "stdout",
     "output_type": "stream",
     "text": [
      "n1 is  45\n",
      "n2.next is  45\n",
      "n3 is  cello\n",
      "n3.next is  25\n",
      "n3.next.next is  45\n",
      "n3.next.next.next is  None\n"
     ]
    }
   ],
   "source": [
    "n1 = Node(45)\n",
    "print('n1 is ', n1)\n",
    "n2 = Node(25, n1)\n",
    "print('n2.next is ', n2.next)\n",
    "n3 = Node('cello', n2)\n",
    "print('n3 is ', n3)\n",
    "print('n3.next is ', n3.next)\n",
    "print('n3.next.next is ', n3.next.next)\n",
    "print('n3.next.next.next is ', n3.next.next.next)"
   ]
  },
  {
   "cell_type": "code",
   "execution_count": 28,
   "metadata": {},
   "outputs": [
    {
     "name": "stdout",
     "output_type": "stream",
     "text": [
      "None\n",
      "tiger\n"
     ]
    }
   ],
   "source": [
    "n4 = Node()\n",
    "print(n4)\n",
    "n4.data = 'tiger'\n",
    "n4.next = n2\n",
    "print(n4)"
   ]
  },
  {
   "cell_type": "code",
   "execution_count": 69,
   "metadata": {},
   "outputs": [],
   "source": [
    "class LinkedList:\n",
    "    def __init__(self):\n",
    "        self._head = None\n",
    "        self._count = 0\n",
    "    \n",
    "    def add(self, item):\n",
    "        new_node = Node(item)\n",
    "        new_node.next = self._head\n",
    "        self._head = new_node\n",
    "        self._count = self._count + 1\n",
    "        \n",
    "    def remove(self, item):\n",
    "        raise NotImplementedError\n",
    "    \n",
    "    def insert(self, item, position):\n",
    "        self._count = self._count + 1\n",
    "        new_node = Node(item)\n",
    "        if self._head is None:\n",
    "            self._head = new_node\n",
    "        else:\n",
    "            current_pos = 0\n",
    "            current = self._head\n",
    "            while current.next is not None and current_pos < position-1:\n",
    "                current = current.next\n",
    "                current_pos += 1\n",
    "            new_node.next = current.next\n",
    "            current.next = new_node                \n",
    "    \n",
    "    def append(self, item):\n",
    "        new_node = Node(item)\n",
    "        self._count = self._count + 1\n",
    "        if self._head is None:\n",
    "            self._head = new_node\n",
    "        else:\n",
    "            current = self._head\n",
    "            while current.next is not None:\n",
    "                current = current.next\n",
    "            current.next = new_node\n",
    "    \n",
    "    def pop(self, position=None):\n",
    "        raise NotImplementedError\n",
    "    \n",
    "    def size(self):\n",
    "        return self._count\n",
    "    \n",
    "    def __len__(self):\n",
    "        return self._count\n",
    "    \n",
    "    def __str__(self):\n",
    "        all_nodes = []\n",
    "        current = self._head\n",
    "        while current:\n",
    "            all_nodes.append(str(current.data))\n",
    "            current = current.next\n",
    "        return str(all_nodes)\n",
    "    \n",
    "    def __getitem__(self, rng):\n",
    "        if isinstance(rng, int):  # get a single item\n",
    "            current = self._head\n",
    "            current_pos = 0\n",
    "            while current is not None and current_pos < rng:\n",
    "                current = current.next\n",
    "                current_pos += 1\n",
    "            return current.data\n",
    "        elif isinstance(rng, slice):  # get a slice of the list\n",
    "            current_pos = 0\n",
    "            current = self._head\n",
    "            new_list = LinkedList()\n",
    "            while current.next and current_pos < rng.start:\n",
    "                current = current.next\n",
    "                current_pos += 1\n",
    "            while current and current_pos < rng.stop:\n",
    "                new_list.append(current.data)\n",
    "                current = current.next\n",
    "                current_pos += 1\n",
    "            return new_list\n",
    "        \n",
    "    def traverse(self):\n",
    "        current = self._head\n",
    "        while current is not None:\n",
    "            print(str(current))\n",
    "            current = current.next"
   ]
  },
  {
   "cell_type": "code",
   "execution_count": 70,
   "metadata": {},
   "outputs": [
    {
     "name": "stdout",
     "output_type": "stream",
     "text": [
      "['5', '10', 'dog']\n",
      "['5', '10', 'cat', 'dog']\n",
      "['5', '10', 'cat', 'dog', 'hamster']\n",
      "10\n",
      "15\n",
      "['10', 'cat', 'dog', 'hamster']\n"
     ]
    }
   ],
   "source": [
    "llist2 = LinkedList()\n",
    "llist2.append(5)\n",
    "llist2.append(10)\n",
    "llist2.append('dog')\n",
    "print(llist2)\n",
    "llist2.insert('cat', 2)\n",
    "print(llist2)\n",
    "llist2.insert('hamster', 20)\n",
    "print(llist2)\n",
    "print(llist2[1])\n",
    "print(llist2[1] + 5)\n",
    "print(llist2[1:10])"
   ]
  },
  {
   "cell_type": "code",
   "execution_count": 32,
   "metadata": {},
   "outputs": [
    {
     "name": "stdout",
     "output_type": "stream",
     "text": [
      "0\n",
      "1\n",
      "2\n",
      "-----\n",
      "10\n",
      "5\n",
      "['10', '5']\n",
      "['10', '5', 'dog']\n"
     ]
    }
   ],
   "source": [
    "llist = LinkedList()\n",
    "print(len(llist))\n",
    "llist.add(5)\n",
    "print(len(llist))\n",
    "llist.add(10)\n",
    "print(len(llist))\n",
    "print('-----')\n",
    "llist.traverse()\n",
    "print(llist)\n",
    "llist.append('dog')\n",
    "print(llist)"
   ]
  },
  {
   "cell_type": "code",
   "execution_count": 30,
   "metadata": {},
   "outputs": [
    {
     "name": "stdout",
     "output_type": "stream",
     "text": [
      "['The cat is Sleepy', 'The cat is Playful', 'The cat is Hungry', 'The cat is Confused', 'The cat is Sleepy', '10', '5']\n"
     ]
    }
   ],
   "source": [
    "import random\n",
    "for _ in range(5):\n",
    "    llist.add(Cat(random.choice(moods)))\n",
    "print(llist)"
   ]
  },
  {
   "cell_type": "code",
   "execution_count": null,
   "metadata": {},
   "outputs": [],
   "source": []
  }
 ],
 "metadata": {
  "kernelspec": {
   "display_name": "Python 3",
   "language": "python",
   "name": "python3"
  },
  "language_info": {
   "codemirror_mode": {
    "name": "ipython",
    "version": 3
   },
   "file_extension": ".py",
   "mimetype": "text/x-python",
   "name": "python",
   "nbconvert_exporter": "python",
   "pygments_lexer": "ipython3",
   "version": "3.5.1"
  }
 },
 "nbformat": 4,
 "nbformat_minor": 2
}
