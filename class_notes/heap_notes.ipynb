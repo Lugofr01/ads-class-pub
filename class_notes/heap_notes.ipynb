{
 "cells": [
  {
   "cell_type": "code",
   "execution_count": 1,
   "metadata": {
    "collapsed": false,
    "deletable": true,
    "editable": true
   },
   "outputs": [
    {
     "name": "stdout",
     "output_type": "stream",
     "text": [
      "[14, 35, 2, 3, 12, 9, 4, 12, 7, 13, 14, 5, 42, 6]\n",
      "[2, 3, 4, 7, 12, 5, 6, 12, 35, 13, 14, 9, 42, 14]\n",
      "[1, 3, 2, 7, 12, 5, 4, 12, 35, 13, 14, 9, 42, 14, 6]\n",
      "1\n",
      "[2, 3, 4, 7, 12, 5, 6, 12, 35, 13, 14, 9, 42, 14]\n"
     ]
    }
   ],
   "source": [
    "import heapq\n",
    "lst = [14, 35, 2, 3, 12, 9, 4, 12, 7, 13, 14, 5, 42, 6]\n",
    "print(lst)\n",
    "heapq.heapify(lst)\n",
    "print(lst)\n",
    "heapq.heappush(lst, 1)\n",
    "print(lst)\n",
    "print(heapq.heappop(lst))\n",
    "print(lst)"
   ]
  },
  {
   "cell_type": "code",
   "execution_count": 2,
   "metadata": {
    "collapsed": true,
    "deletable": true,
    "editable": true
   },
   "outputs": [],
   "source": [
    "class BinaryHeap:\n",
    "    \"\"\"Heap class implementation\"\"\"\n",
    "    def __init__(self, n=0):\n",
    "        \"\"\"Class constructor\"\"\"\n",
    "        self._items = []\n",
    "        self._limit = n\n",
    "\n",
    "    def is_empty(self):\n",
    "        \"\"\"Is the heap empty\"\"\"\n",
    "        return self._items == []\n",
    "\n",
    "    def is_full(self):\n",
    "        \"\"\"Is the heap full\"\"\"\n",
    "        return len(self._items) >= self._limit\n",
    "\n",
    "    def __len__(self):\n",
    "        \"\"\"How big is the heap\"\"\"\n",
    "        return len(self._items)\n",
    "    \n",
    "    def __str__(self):\n",
    "        \"\"\"Convert to string\"\"\"\n",
    "        return str(self._items)\n",
    "\n",
    "    def insert(self, item):\n",
    "        \"\"\"Add new item to te heap\"\"\"\n",
    "        self._items.append(item)\n",
    "        self.perc_up(len(self._items)-1)\n",
    "    \n",
    "    def perc_up(self, cur_idx):\n",
    "        \"\"\"Percolate up\"\"\"\n",
    "        while (cur_idx - 1) // 2 >= 0:\n",
    "            par_idx = (cur_idx - 1) // 2\n",
    "            if self._items[cur_idx] < self._items[par_idx]:\n",
    "                self._items[cur_idx], self._items[par_idx] = self._items[par_idx], self._items[cur_idx]\n",
    "            else:\n",
    "                return\n",
    "            cur_idx = par_idx\n",
    "\n",
    "    def get_min_child(self, par_idx):\n",
    "        \"\"\"Get the smaller child's index\"\"\"\n",
    "        if 2 * par_idx + 2 > len(self._items) - 1:\n",
    "            return 2 * par_idx + 1\n",
    "        else:\n",
    "            if self._items[2 * par_idx + 1] < self._items[2 * par_idx + 2]:\n",
    "                return 2 * par_idx + 1\n",
    "            else:\n",
    "                return 2 * par_idx + 2    \n",
    "\n",
    "    def perc_down(self, cur_idx):\n",
    "        \"\"\"Percolate down\"\"\"\n",
    "        while 2*cur_idx + 1 < len(self._items):\n",
    "            smaller_child_idx = self.get_min_child(cur_idx)\n",
    "            if self._items[cur_idx] > self._items[smaller_child_idx]:\n",
    "                self._items[cur_idx], self._items[smaller_child_idx] = self._items[smaller_child_idx], self._items[cur_idx]\n",
    "            else:\n",
    "                return\n",
    "            cur_idx = smaller_child_idx\n",
    "            \n",
    "    def delete(self):\n",
    "        \"\"\"Remove the top of the heap\"\"\"\n",
    "        self._items[0], self._items[len(self._items)-1] = self._items[len(self._items)-1], self._items[0]\n",
    "        res = self._items.pop()\n",
    "        self.perc_down(0)\n",
    "        return res\n",
    "        \n",
    "\n",
    "    def heapify(self, lst):\n",
    "        \"\"\"Heapify a list\"\"\"\n",
    "        self._items = lst[:]\n",
    "        cur_idx = len(self._items) // 2 - 1\n",
    "        while cur_idx >= 0:\n",
    "            self.perc_down(cur_idx)\n",
    "            cur_idx = cur_idx - 1"
   ]
  },
  {
   "cell_type": "code",
   "execution_count": 3,
   "metadata": {
    "collapsed": false
   },
   "outputs": [
    {
     "name": "stdout",
     "output_type": "stream",
     "text": [
      "[14, 35, 2, 3, 12, 9, 4, 12, 7, 13, 14, 5, 42, 6]\n",
      "[2, 3, 4, 7, 12, 5, 6, 12, 35, 13, 14, 9, 42, 14]\n",
      "[1, 3, 2, 7, 12, 5, 4, 12, 35, 13, 14, 9, 42, 14, 6]\n",
      "1\n",
      "[2, 3, 4, 7, 12, 5, 6, 12, 35, 13, 14, 9, 42, 14]\n"
     ]
    }
   ],
   "source": [
    "bin_heap = BinaryHeap()\n",
    "lst = [14, 35, 2, 3, 12, 9, 4, 12, 7, 13, 14, 5, 42, 6]\n",
    "print(lst)\n",
    "bin_heap.heapify(lst)\n",
    "print(bin_heap)\n",
    "bin_heap.insert(1)\n",
    "print(bin_heap)\n",
    "print(bin_heap.delete())\n",
    "print(bin_heap)"
   ]
  }
 ],
 "metadata": {
  "kernelspec": {
   "display_name": "Python 3",
   "language": "python",
   "name": "python3"
  },
  "language_info": {
   "codemirror_mode": {
    "name": "ipython",
    "version": 3
   },
   "file_extension": ".py",
   "mimetype": "text/x-python",
   "name": "python",
   "nbconvert_exporter": "python",
   "pygments_lexer": "ipython3",
   "version": "3.5.1"
  }
 },
 "nbformat": 4,
 "nbformat_minor": 2
}
