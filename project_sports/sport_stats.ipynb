{
 "cells": [
  {
   "cell_type": "markdown",
   "metadata": {},
   "source": [
    "# Sport stats project"
   ]
  },
  {
   "cell_type": "markdown",
   "metadata": {},
   "source": [
    "## Game class"
   ]
  },
  {
   "cell_type": "code",
   "execution_count": 36,
   "metadata": {
    "collapsed": false
   },
   "outputs": [],
   "source": [
    "from collections import Counter\n",
    "\n",
    "class Game():\n",
    "    def __init__(self, year, winner, loser, score_w, score_l):\n",
    "        self._year = year\n",
    "        self._winner = winner\n",
    "        self._loser = loser\n",
    "        self._score_w = score_w\n",
    "        self._score_l = score_l\n",
    "    \n",
    "    @property\n",
    "    def winner(self):\n",
    "        return self._winner\n",
    "    \n",
    "    def __str__(self):\n",
    "        return self._winner + \" won in \" + self._year + \" by \" + str(self._score_w - self._score_l)"
   ]
  },
  {
   "cell_type": "markdown",
   "metadata": {},
   "source": [
    "## Project idea\n",
    "1. Open a file\n",
    "1. Skip the first line\n",
    "1. Split a line\n",
    "1. Create a new game object\n",
    "1. (optional) Update number of titles for the game winner\n",
    "1. Once there is a list of all games, process it to solve specific tasks"
   ]
  },
  {
   "cell_type": "code",
   "execution_count": 40,
   "metadata": {
    "collapsed": false
   },
   "outputs": [
    {
     "name": "stdout",
     "output_type": "stream",
     "text": [
      "Championship games/series: 67\n",
      "Current champions: Cleveland Cavaliers won in 2016 by 1\n",
      "Boston Celtics is the most successful team with 17 titles\n"
     ]
    }
   ],
   "source": [
    "champions = dict()\n",
    "all_games = list()\n",
    "    \n",
    "with open('nba.txt', 'r') as sport_file:\n",
    "    sport_file.readline() # ignore the first lint\n",
    "    for line in sport_file:\n",
    "        line_items = line.strip().split('\\t')\n",
    "        line_items[2] = line_items[2].split('-')\n",
    "        g = Game(line_items[0], line_items[1], line_items[3], int(line_items[2][0]), int(line_items[2][1]))\n",
    "        all_games.append(g)\n",
    "        champions[g.winner] = champions.get(g.winner, 0) + 1\n",
    "\n",
    "print(\"Championship games/series: {}\".format(len(all_games)))        \n",
    "print(\"Current champions: {}\".format(b))\n",
    "most_successful = Counter(champions).most_common(1)[0]\n",
    "print(\"{} is the most successful team with {} titles\".format(*most_successful))"
   ]
  },
  {
   "cell_type": "code",
   "execution_count": null,
   "metadata": {
    "collapsed": true
   },
   "outputs": [],
   "source": []
  }
 ],
 "metadata": {
  "kernelspec": {
   "display_name": "Python 3",
   "language": "python",
   "name": "python3"
  },
  "language_info": {
   "codemirror_mode": {
    "name": "ipython",
    "version": 3
   },
   "file_extension": ".py",
   "mimetype": "text/x-python",
   "name": "python",
   "nbconvert_exporter": "python",
   "pygments_lexer": "ipython3",
   "version": "3.5.1"
  }
 },
 "nbformat": 4,
 "nbformat_minor": 2
}
